{
 "cells": [
  {
   "cell_type": "code",
   "execution_count": 1,
   "id": "84e02649",
   "metadata": {},
   "outputs": [],
   "source": [
    "#!pip install wandb"
   ]
  },
  {
   "cell_type": "code",
   "execution_count": 2,
   "id": "17cfb164",
   "metadata": {},
   "outputs": [],
   "source": [
    "#!pip install torchsummary"
   ]
  },
  {
   "cell_type": "code",
   "execution_count": 4,
   "id": "adf1bee8",
   "metadata": {},
   "outputs": [],
   "source": [
    "import warnings\n",
    "warnings.filterwarnings('ignore')"
   ]
  },
  {
   "cell_type": "code",
   "execution_count": 5,
   "id": "2f9402e7",
   "metadata": {},
   "outputs": [
    {
     "name": "stdout",
     "output_type": "stream",
     "text": [
      "True\n",
      "NVIDIA GeForce GTX 1080\n"
     ]
    }
   ],
   "source": [
    "import torch\n",
    "\n",
    "print(torch.cuda.is_available())\n",
    "print(torch.cuda.get_device_name(0))"
   ]
  },
  {
   "cell_type": "code",
   "execution_count": 6,
   "id": "bd99d372",
   "metadata": {},
   "outputs": [
    {
     "name": "stdout",
     "output_type": "stream",
     "text": [
      "Running on transformers 4.20.1\n"
     ]
    }
   ],
   "source": [
    "import transformers\n",
    "\n",
    "print(f\"Running on transformers {transformers.__version__}\")"
   ]
  },
  {
   "cell_type": "code",
   "execution_count": 7,
   "id": "f2dd2867",
   "metadata": {},
   "outputs": [],
   "source": [
    "import wandb\n",
    "import pandas as pd\n",
    "import numpy as np\n",
    "import matplotlib.pyplot as plt\n",
    "from collections import defaultdict\n",
    "from datetime import datetime\n",
    "from time import time\n",
    "from datasets import load_dataset, load_metric\n",
    "from pathlib import Path\n",
    "from sklearn.metrics import accuracy_score, f1_score, recall_score, precision_score, classification_report\n",
    "from sklearn.model_selection import train_test_split, KFold\n",
    "from torch.nn import BCEWithLogitsLoss\n",
    "from torch.utils.data import Dataset, DataLoader\n",
    "from tqdm.auto import tqdm\n",
    "from transformers import (AdamW, \n",
    "                          AutoTokenizer, BertTokenizer, AlbertTokenizer, RobertaTokenizer, \n",
    "                          XLNetTokenizer, XLMRobertaTokenizer,\n",
    "                          AlbertForSequenceClassification, AutoModelForSequenceClassification, \n",
    "                          DistilBertForSequenceClassification, BertForSequenceClassification,\n",
    "                          XLNetForSequenceClassification, RobertaForSequenceClassification,\n",
    "                          XLMRobertaForSequenceClassification,\n",
    "                          get_scheduler, PreTrainedModel, \n",
    "                          DistilBertModel\n",
    "                          )\n",
    "from transformers.modeling_outputs import SequenceClassifierOutput\n",
    "from matplotlib import pyplot as plt "
   ]
  },
  {
   "cell_type": "markdown",
   "id": "69d03bb9",
   "metadata": {},
   "source": [
    "### load dataset"
   ]
  },
  {
   "cell_type": "code",
   "execution_count": 8,
   "id": "d582b950",
   "metadata": {
    "scrolled": true
   },
   "outputs": [
    {
     "data": {
      "text/html": [
       "<div>\n",
       "<style scoped>\n",
       "    .dataframe tbody tr th:only-of-type {\n",
       "        vertical-align: middle;\n",
       "    }\n",
       "\n",
       "    .dataframe tbody tr th {\n",
       "        vertical-align: top;\n",
       "    }\n",
       "\n",
       "    .dataframe thead th {\n",
       "        text-align: right;\n",
       "    }\n",
       "</style>\n",
       "<table border=\"1\" class=\"dataframe\">\n",
       "  <thead>\n",
       "    <tr style=\"text-align: right;\">\n",
       "      <th></th>\n",
       "      <th>text</th>\n",
       "      <th>labels</th>\n",
       "      <th>男性</th>\n",
       "      <th>女性</th>\n",
       "      <th>已婚</th>\n",
       "      <th>未婚</th>\n",
       "    </tr>\n",
       "  </thead>\n",
       "  <tbody>\n",
       "    <tr>\n",
       "      <th>0</th>\n",
       "      <td>我是不會去提醒啦,因為我是男生,如果對方是女生,我應該會默默觀賞就好!!</td>\n",
       "      <td>[1, 0, 0, 0]</td>\n",
       "      <td>1</td>\n",
       "      <td>0</td>\n",
       "      <td>0</td>\n",
       "      <td>0</td>\n",
       "    </tr>\n",
       "    <tr>\n",
       "      <th>1</th>\n",
       "      <td>我坐在旁邊看著打lol的男友「幹xxxx」「一群@#~?%」贏的時候，跩跩的輕哼一聲輸的時候...</td>\n",
       "      <td>[0, 1, 0, 1]</td>\n",
       "      <td>0</td>\n",
       "      <td>1</td>\n",
       "      <td>0</td>\n",
       "      <td>1</td>\n",
       "    </tr>\n",
       "    <tr>\n",
       "      <th>2</th>\n",
       "      <td>人妻是我愛啊…只是除了道德上的問題還有太多現實上的問題，真的沒有勇氣去碰啊…</td>\n",
       "      <td>[1, 0, 0, 0]</td>\n",
       "      <td>1</td>\n",
       "      <td>0</td>\n",
       "      <td>0</td>\n",
       "      <td>0</td>\n",
       "    </tr>\n",
       "    <tr>\n",
       "      <th>3</th>\n",
       "      <td>開學第一堂歷史課歷史老師說要重新選小老師我還在猶豫要不要舉手時一個男生舉手隨後我跟著舉手對兩...</td>\n",
       "      <td>[0, 1, 0, 0]</td>\n",
       "      <td>0</td>\n",
       "      <td>1</td>\n",
       "      <td>0</td>\n",
       "      <td>0</td>\n",
       "    </tr>\n",
       "    <tr>\n",
       "      <th>4</th>\n",
       "      <td>(=′ー`)他們是很好的朋友她跟我男友固定聊天這樣不是對我男友有興趣吧？她是雙的樣子&lt;br&gt;</td>\n",
       "      <td>[0, 1, 0, 1]</td>\n",
       "      <td>0</td>\n",
       "      <td>1</td>\n",
       "      <td>0</td>\n",
       "      <td>1</td>\n",
       "    </tr>\n",
       "    <tr>\n",
       "      <th>5</th>\n",
       "      <td>我不玩陣頭但是我有跟公司（就是俗稱的黑道我們公司算是比較正派的規定不准吃毒不准偷搶拐騙不找人...</td>\n",
       "      <td>[1, 0, 0, 0]</td>\n",
       "      <td>1</td>\n",
       "      <td>0</td>\n",
       "      <td>0</td>\n",
       "      <td>0</td>\n",
       "    </tr>\n",
       "    <tr>\n",
       "      <th>6</th>\n",
       "      <td>我男友都叫我不要喝冰的但我跟他見面我還是盧洨成功喝冰的但他說會痛不要跟他說嗚嗚嗚ʕ´•ᴥ•̥`ʔ</td>\n",
       "      <td>[0, 1, 0, 1]</td>\n",
       "      <td>0</td>\n",
       "      <td>1</td>\n",
       "      <td>0</td>\n",
       "      <td>1</td>\n",
       "    </tr>\n",
       "    <tr>\n",
       "      <th>7</th>\n",
       "      <td>有些事情真的是習慣,不容易改啊~ 像我家老爺和孩子都是屬於過敏體質,揉口鼻這行為幾乎都快變成...</td>\n",
       "      <td>[0, 1, 1, 0]</td>\n",
       "      <td>0</td>\n",
       "      <td>1</td>\n",
       "      <td>1</td>\n",
       "      <td>0</td>\n",
       "    </tr>\n",
       "    <tr>\n",
       "      <th>8</th>\n",
       "      <td>太爽了，希望有一天我能突然大學教室，直接抓著正妹開幹</td>\n",
       "      <td>[1, 0, 0, 0]</td>\n",
       "      <td>1</td>\n",
       "      <td>0</td>\n",
       "      <td>0</td>\n",
       "      <td>0</td>\n",
       "    </tr>\n",
       "    <tr>\n",
       "      <th>9</th>\n",
       "      <td>偶而我會和我老婆去吃到飽餐廳.不過我們只會吃到飽.不會吃到撐.吃的量也不是很多.只是抱著品嚐...</td>\n",
       "      <td>[1, 0, 1, 0]</td>\n",
       "      <td>1</td>\n",
       "      <td>0</td>\n",
       "      <td>1</td>\n",
       "      <td>0</td>\n",
       "    </tr>\n",
       "  </tbody>\n",
       "</table>\n",
       "</div>"
      ],
      "text/plain": [
       "                                                text        labels  男性  女性  \\\n",
       "0               我是不會去提醒啦,因為我是男生,如果對方是女生,我應該會默默觀賞就好!!  [1, 0, 0, 0]   1   0   \n",
       "1  我坐在旁邊看著打lol的男友「幹xxxx」「一群@#~?%」贏的時候，跩跩的輕哼一聲輸的時候...  [0, 1, 0, 1]   0   1   \n",
       "2             人妻是我愛啊…只是除了道德上的問題還有太多現實上的問題，真的沒有勇氣去碰啊…  [1, 0, 0, 0]   1   0   \n",
       "3  開學第一堂歷史課歷史老師說要重新選小老師我還在猶豫要不要舉手時一個男生舉手隨後我跟著舉手對兩...  [0, 1, 0, 0]   0   1   \n",
       "4     (=′ー`)他們是很好的朋友她跟我男友固定聊天這樣不是對我男友有興趣吧？她是雙的樣子<br>  [0, 1, 0, 1]   0   1   \n",
       "5  我不玩陣頭但是我有跟公司（就是俗稱的黑道我們公司算是比較正派的規定不准吃毒不准偷搶拐騙不找人...  [1, 0, 0, 0]   1   0   \n",
       "6   我男友都叫我不要喝冰的但我跟他見面我還是盧洨成功喝冰的但他說會痛不要跟他說嗚嗚嗚ʕ´•ᴥ•̥`ʔ  [0, 1, 0, 1]   0   1   \n",
       "7  有些事情真的是習慣,不容易改啊~ 像我家老爺和孩子都是屬於過敏體質,揉口鼻這行為幾乎都快變成...  [0, 1, 1, 0]   0   1   \n",
       "8                         太爽了，希望有一天我能突然大學教室，直接抓著正妹開幹  [1, 0, 0, 0]   1   0   \n",
       "9  偶而我會和我老婆去吃到飽餐廳.不過我們只會吃到飽.不會吃到撐.吃的量也不是很多.只是抱著品嚐...  [1, 0, 1, 0]   1   0   \n",
       "\n",
       "   已婚  未婚  \n",
       "0   0   0  \n",
       "1   0   1  \n",
       "2   0   0  \n",
       "3   0   0  \n",
       "4   0   1  \n",
       "5   0   0  \n",
       "6   0   1  \n",
       "7   1   0  \n",
       "8   0   0  \n",
       "9   1   0  "
      ]
     },
     "execution_count": 8,
     "metadata": {},
     "output_type": "execute_result"
    }
   ],
   "source": [
    "df = pd.read_json(\"au_2234_p.json\")\n",
    "df.head(10)"
   ]
  },
  {
   "cell_type": "markdown",
   "id": "ac83861d",
   "metadata": {},
   "source": [
    "### data preprocessing"
   ]
  },
  {
   "cell_type": "code",
   "execution_count": 9,
   "id": "6f3baf26",
   "metadata": {},
   "outputs": [
    {
     "data": {
      "text/plain": [
       "4"
      ]
     },
     "execution_count": 9,
     "metadata": {},
     "output_type": "execute_result"
    }
   ],
   "source": [
    "# label_col = ['男性', '女性', '已婚', '未婚', '上班族', '學生', '青年', '有子女']\n",
    "label_col = ['男性', '女性', '已婚', '未婚']\n",
    "len(label_col)\n",
    "# num_idx = list(range(0,4))\n",
    "\n",
    "# label_col_dict = dict(zip(label_col, num_idx))\n",
    "\n",
    "# print(label_col)\n",
    "# print(num_idx)\n",
    "# print(label_col_dict)"
   ]
  },
  {
   "cell_type": "code",
   "execution_count": null,
   "id": "a0d326e2",
   "metadata": {},
   "outputs": [],
   "source": [
    "# def label_transform(df, label_col_dict, target):\n",
    "#     one_hot_list = []\n",
    "#     for labels in df[target]:\n",
    "#         temp = np.zeros(8).astype(int)\n",
    "#         for label in labels:\n",
    "#             temp[label_col_dict.get(label)] = 1\n",
    "#         one_hot_list.append(temp)\n",
    "        \n",
    "#     df['labels'] = one_hot_list\n",
    "#     return df"
   ]
  },
  {
   "cell_type": "code",
   "execution_count": 10,
   "id": "56ba8850",
   "metadata": {},
   "outputs": [],
   "source": [
    "def one_hot_to_label(arr, label_col):\n",
    "    temp = []\n",
    "    for i in range(len(arr)):\n",
    "        if arr[i] == 1:\n",
    "            temp.append(label_col[i])\n",
    "    return temp"
   ]
  },
  {
   "cell_type": "code",
   "execution_count": null,
   "id": "cf9cb5b4",
   "metadata": {},
   "outputs": [],
   "source": [
    "# df = label_transform(\n",
    "#     df=df, \n",
    "#     label_col_dict=label_col_dict,\n",
    "#     target='label'\n",
    "# )"
   ]
  },
  {
   "cell_type": "code",
   "execution_count": 11,
   "id": "a87b2d77",
   "metadata": {},
   "outputs": [
    {
     "data": {
      "text/plain": [
       "男性    1035\n",
       "女性    1074\n",
       "已婚    1066\n",
       "未婚    1040\n",
       "dtype: int64"
      ]
     },
     "execution_count": 11,
     "metadata": {},
     "output_type": "execute_result"
    }
   ],
   "source": [
    "sum_label = df[label_col].eq(1).sum()\n",
    "sum_label"
   ]
  },
  {
   "cell_type": "code",
   "execution_count": 12,
   "id": "a58616a4",
   "metadata": {},
   "outputs": [
    {
     "ename": "NameError",
     "evalue": "name 'len_list' is not defined",
     "output_type": "error",
     "traceback": [
      "\u001b[0;31m---------------------------------------------------------------------------\u001b[0m",
      "\u001b[0;31mNameError\u001b[0m                                 Traceback (most recent call last)",
      "Input \u001b[0;32mIn [12]\u001b[0m, in \u001b[0;36m<cell line: 1>\u001b[0;34m()\u001b[0m\n\u001b[0;32m----> 1\u001b[0m \u001b[38;5;28mprint\u001b[39m(\u001b[38;5;124m'\u001b[39m\u001b[38;5;124mmax sentence length: \u001b[39m\u001b[38;5;124m'\u001b[39m, \u001b[38;5;28mmax\u001b[39m(\u001b[43mlen_list\u001b[49m))\n\u001b[1;32m      2\u001b[0m \u001b[38;5;28mprint\u001b[39m(\u001b[38;5;124m'\u001b[39m\u001b[38;5;124maverage sentence length: \u001b[39m\u001b[38;5;124m'\u001b[39m, np\u001b[38;5;241m.\u001b[39mmean(len_list))\n\u001b[1;32m      3\u001b[0m \u001b[38;5;66;03m# print('stdev sentence length: ', df.text.str.split().str.len().std())\u001b[39;00m\n",
      "\u001b[0;31mNameError\u001b[0m: name 'len_list' is not defined"
     ]
    }
   ],
   "source": [
    "print('max sentence length: ', max(len_list))\n",
    "print('average sentence length: ', np.mean(len_list))\n",
    "# print('stdev sentence length: ', df.text.str.split().str.len().std())\n",
    "print(\"sample size: \", len(len_list))"
   ]
  },
  {
   "cell_type": "code",
   "execution_count": 13,
   "id": "91a18b0a",
   "metadata": {},
   "outputs": [],
   "source": [
    "class AudienceDataset(Dataset):\n",
    "    def __init__(self, reviews, targets, tokenizer, max_len):\n",
    "        self.reviews = reviews\n",
    "        self.targets = targets\n",
    "        self.tokenizer = tokenizer\n",
    "        self.max_len = max_len\n",
    "\n",
    "    def __getitem__(self, idx):\n",
    "        review = str(self.reviews[idx])\n",
    "        target = self.targets[idx]\n",
    "        encoding = self.tokenizer.encode_plus(\n",
    "            review,\n",
    "            add_special_tokens=True,\n",
    "            max_length=self.max_len,\n",
    "            return_token_type_ids=False,\n",
    "            padding='max_length',\n",
    "            return_attention_mask=True,\n",
    "            return_tensors='pt',\n",
    "            truncation=True\n",
    "        )\n",
    "        return {\n",
    "          'review_text': review,\n",
    "          'input_ids': encoding['input_ids'].flatten(),\n",
    "          'attention_mask': encoding['attention_mask'].flatten(),\n",
    "          'targets': torch.tensor(target)\n",
    "        }\n",
    "    def __len__(self):\n",
    "        return len(self.reviews)"
   ]
  },
  {
   "cell_type": "code",
   "execution_count": 14,
   "id": "036521c0",
   "metadata": {},
   "outputs": [],
   "source": [
    "def create_data_loader(df, tokenizer, max_len, batch_size):\n",
    "    ds = AudienceDataset(\n",
    "        reviews=df.text.to_numpy(),\n",
    "        targets=df.labels.to_numpy(),\n",
    "        tokenizer=tokenizer,\n",
    "        max_len=max_len\n",
    "        )\n",
    "    return DataLoader(\n",
    "        ds,\n",
    "        batch_size=batch_size,\n",
    "        num_workers=0,\n",
    "        shuffle= True,\n",
    "        )"
   ]
  },
  {
   "cell_type": "code",
   "execution_count": 15,
   "id": "5bf6f781",
   "metadata": {},
   "outputs": [
    {
     "data": {
      "text/plain": [
       "4"
      ]
     },
     "execution_count": 15,
     "metadata": {},
     "output_type": "execute_result"
    }
   ],
   "source": [
    "num_labels=len(label_col)\n",
    "num_labels"
   ]
  },
  {
   "cell_type": "markdown",
   "id": "0ff6444e",
   "metadata": {},
   "source": [
    "### modeling"
   ]
  },
  {
   "cell_type": "code",
   "execution_count": 16,
   "id": "4399d37e",
   "metadata": {},
   "outputs": [],
   "source": [
    "def accuracy_thresh(y_pred, y_true, thresh=0.5, average='weighted'):\n",
    "    \"\"\"\n",
    "    :param y_pred: the sigmoid predictions of the model output, expect array\n",
    "    :param y_true: the true labels array\n",
    "    :param thresh: the threshold of multi-label classification, set default to 0.5\n",
    "    :param average: the average method of metrics, set default to weighted\n",
    "    :return: dictionary of accuracy, precision, recall and f1_score\n",
    "    \"\"\"\n",
    "    y_pred = torch.from_numpy(y_pred)\n",
    "    y_true = torch.from_numpy(y_true)\n",
    "\n",
    "    a = accuracy_score(\n",
    "        y_true=np.array(y_true.bool()),\n",
    "        y_pred=np.array(y_pred > thresh)\n",
    "    )\n",
    "\n",
    "    p = precision_score(\n",
    "        y_true=np.array(y_true.bool()),\n",
    "        y_pred=np.array(y_pred > thresh),\n",
    "        average=average\n",
    "    )\n",
    "    r = recall_score(\n",
    "        y_true=np.array(y_true.bool()),\n",
    "        y_pred=np.array(y_pred > thresh),\n",
    "        average=average\n",
    "    )\n",
    "    f = f1_score(\n",
    "        y_true=np.array(y_true.bool()),\n",
    "        y_pred=np.array(y_pred > thresh),\n",
    "        average=average\n",
    "    )\n",
    "\n",
    "    return {\n",
    "        'accuracy': a * 100,\n",
    "        'precision': p * 100,\n",
    "        'recall': r * 100,\n",
    "        'f1': f * 100\n",
    "    }\n"
   ]
  },
  {
   "cell_type": "code",
   "execution_count": 17,
   "id": "336b824a",
   "metadata": {},
   "outputs": [],
   "source": [
    "def train_epoch(model, loader, optimizer, device, scheduler, loss_func=None):\n",
    "    start = time()\n",
    "    model = model.train()\n",
    "    pred_list = []\n",
    "    label = []\n",
    "    for d in loader:\n",
    "        optimizer.zero_grad()\n",
    "        input_ids = d[\"input_ids\"].to(device)\n",
    "        attention_mask = d[\"attention_mask\"].to(device)\n",
    "        targets = d[\"targets\"].to(device)\n",
    "        outputs = model(\n",
    "            input_ids=input_ids, \n",
    "            attention_mask=attention_mask,\n",
    "            labels=targets.float()\n",
    "        )\n",
    "        \n",
    "        logits = outputs.logits\n",
    "        if loss_func:\n",
    "            loss = loss_func(\n",
    "                logits.view(-1,num_labels), \n",
    "                targets.float().view(-1, num_labels)\n",
    "            )\n",
    "        else:\n",
    "            loss = outputs.loss\n",
    "        \n",
    "        \n",
    "        pred_list.append(logits.sigmoid())\n",
    "        label.append(targets)\n",
    "        \n",
    "        loss.backward()\n",
    "        optimizer.step()\n",
    "        scheduler.step()\n",
    "        \n",
    "    y_pred = np.array([l for b in pred_list for l in b.cpu().detach().numpy()])\n",
    "    y_true = np.array([l for b in label for l in b.cpu().detach().numpy()])\n",
    "    \n",
    "    acc = accuracy_thresh(\n",
    "        y_pred=y_pred,\n",
    "        y_true=y_true,\n",
    "        thresh=0.5\n",
    "    )\n",
    "    return loss, acc, (time() - start) / 60"
   ]
  },
  {
   "cell_type": "code",
   "execution_count": 18,
   "id": "a5523e19",
   "metadata": {},
   "outputs": [],
   "source": [
    "def eval_epoch(model, loader, optimizer, device, scheduler, loss_func=None):\n",
    "    start = time()\n",
    "    model.eval()\n",
    "    pred_list = []\n",
    "    label = []\n",
    "    for d in loader:\n",
    "        input_ids = d[\"input_ids\"].to(device)\n",
    "        attention_mask = d[\"attention_mask\"].to(device)\n",
    "        targets = d[\"targets\"].to(device)\n",
    "        with torch.no_grad():\n",
    "            outputs = model(\n",
    "                input_ids=input_ids, \n",
    "                attention_mask=attention_mask,\n",
    "                labels=targets.float()\n",
    "            )\n",
    "\n",
    "        logits = outputs.logits\n",
    "        if loss_func:\n",
    "            loss = loss_func(\n",
    "                logits.view(-1,num_labels), \n",
    "                targets.float().view(-1, num_labels)\n",
    "            )\n",
    "        else:\n",
    "            loss = outputs.loss\n",
    "        \n",
    "        pred_list.append(logits.sigmoid())\n",
    "        label.append(targets)\n",
    "    \n",
    "    y_pred = np.array([l for b in pred_list for l in b.cpu().detach().numpy()])\n",
    "    y_true = np.array([l for b in label for l in b.cpu().detach().numpy()])\n",
    "    \n",
    "    acc = accuracy_thresh(\n",
    "        y_pred=y_pred,\n",
    "        y_true=y_true,\n",
    "        thresh=0.5,\n",
    "        average=\"macro\"\n",
    "    )\n",
    "    return loss, acc, (time() - start) / 60"
   ]
  },
  {
   "cell_type": "code",
   "execution_count": 19,
   "id": "4b534562",
   "metadata": {},
   "outputs": [],
   "source": [
    "def sigmoid_logits_to_one_hot(arr: np.array, thresh=0.5):\n",
    "    arr[arr > thresh] = 1\n",
    "    arr[arr <= thresh] = 0\n",
    "    return arr.astype(int)"
   ]
  },
  {
   "cell_type": "code",
   "execution_count": 20,
   "id": "ce05aa91",
   "metadata": {},
   "outputs": [],
   "source": [
    "def get_prediction(model, data_loader, path, device):\n",
    "    model.load_state_dict(torch.load(path))\n",
    "    model = model.eval()\n",
    "    review_texts = []\n",
    "    predictions = []\n",
    "    # prediction_probability = []\n",
    "    real_values = []\n",
    "    with torch.no_grad():\n",
    "        for d in data_loader:\n",
    "            texts = d['review_text']\n",
    "            input_ids = d['input_ids'].to(device)\n",
    "            attention_mask = d[\"attention_mask\"].to(device)\n",
    "            targets = d['targets'].to(device)\n",
    "            outputs = model(input_ids=input_ids, attention_mask=attention_mask)\n",
    "            logits = outputs.logits\n",
    "            review_texts.extend(texts)\n",
    "            predictions.extend(logits.sigmoid())\n",
    "            real_values.extend(targets)\n",
    "\n",
    "        y_pred = np.array([b.cpu().detach().numpy() for b in predictions])\n",
    "        y_true = np.array([b.cpu().detach().numpy() for b in real_values])\n",
    "        \n",
    "        y_pred = sigmoid_logits_to_one_hot(y_pred)\n",
    "        # predictions = torch.stack(predictions).cpu().detach()\n",
    "        # real_values = torch.stack(real_values).cpu().detach()\n",
    "    return review_texts, y_pred, y_true"
   ]
  },
  {
   "cell_type": "code",
   "execution_count": 21,
   "id": "83cc0f14",
   "metadata": {},
   "outputs": [],
   "source": [
    "def get_classification_report(model, test_data_loader, path, device, label_col):\n",
    "    y_review_texts, y_pred, y_test = get_prediction(model, test_data_loader, path, device)\n",
    "    report = classification_report(y_test, y_pred, target_names=label_col, output_dict=True)\n",
    "    report = pd.DataFrame(report).transpose()\n",
    "    report = report.reset_index().rename(columns={'index':'label'})\n",
    "    false_prediction = [['text', 'label', 'predict']]\n",
    "    for i in range(len(y_pred)):\n",
    "        if not (y_pred[i] == y_test[i]).all():\n",
    "            false_prediction.append(\n",
    "                [\n",
    "                    y_review_texts[i], \n",
    "                    one_hot_to_label(y_test[i], label_col), \n",
    "                    one_hot_to_label(y_pred[i], label_col)\n",
    "                ]\n",
    "            )\n",
    "    pd.set_option('display.float_format', lambda x: '%.3f' % x)\n",
    "    false_prediction_df = pd.DataFrame(false_prediction[1:], columns=false_prediction[0])\n",
    "    \n",
    "    return report, false_prediction_df"
   ]
  },
  {
   "cell_type": "code",
   "execution_count": 22,
   "id": "150b1577",
   "metadata": {},
   "outputs": [],
   "source": [
    "# https://discuss.pytorch.org/t/finding-model-size/130275/2\n",
    "def get_model_size(model):\n",
    "    param_size = 0\n",
    "    param_sum = 0\n",
    "    for param in model.parameters():\n",
    "        param_size += param.nelement() * param.element_size()\n",
    "        param_sum += param.nelement()\n",
    "        \n",
    "    buffer_size = 0\n",
    "    buffer_sum = 0\n",
    "    for buffer in model.buffers():\n",
    "        buffer_size += buffer.nelement() * buffer.element_size()\n",
    "        buffer_sum += buffer.nelement()\n",
    "\n",
    "    size_all_mb = (param_size + buffer_size) / 1024**2\n",
    "    size_dict = {\n",
    "        'param_size': param_size, \n",
    "        'param_sum': param_sum, \n",
    "        'buffer_size': buffer_size,\n",
    "        'buffer_sum': buffer_sum,\n",
    "        'total_size(MB)': size_all_mb\n",
    "    }\n",
    "    pd.set_option('display.float_format', lambda x: '%.3f' % x)\n",
    "    size_df = pd.DataFrame(list(size_dict.items()), columns=['name', 'value'])\n",
    "    size_df = size_df.round(2)\n",
    "    return size_df"
   ]
  },
  {
   "cell_type": "code",
   "execution_count": 36,
   "id": "fb816d58",
   "metadata": {},
   "outputs": [],
   "source": [
    "# https://pytorch.org/tutorials/beginner/saving_loading_models.html#export-load-model-in-torchscript-format\n",
    "def save_pt(model, state_dict_path, pt_output_path):\n",
    "    model.load_state_dict(torch.load(state_dict_path))\n",
    "    model_scripted = torch.jit.script(model)\n",
    "    model_scripted.save(f\"{pt_output_path}.pt\")"
   ]
  },
  {
   "cell_type": "code",
   "execution_count": 34,
   "id": "2a29c842",
   "metadata": {
    "scrolled": true
   },
   "outputs": [],
   "source": [
    "def run(\n",
    "    df_train,\n",
    "    df_test,\n",
    "    learning_rate = 2e-5, \n",
    "    epochs = 50,\n",
    "    batch_size = 32,\n",
    "    max_len = 30,\n",
    "    num_labels = 4,\n",
    "    ckpt = \"roberta-base\",\n",
    "    dsn = \"au_1200_p\",\n",
    "    project_name = \"audience_bert_4_class\",\n",
    "    prefix=None\n",
    "):\n",
    "    \n",
    "    display_name = f\"{ckpt}_{prefix}_{datetime.now()}\" if prefix else f\"{ckpt}_{datetime.now()}\"\n",
    "    wandb.init(project=project_name, name=display_name)\n",
    "    config = {\n",
    "        \"dataset\": dsn,\n",
    "        \"learning_rate\": learning_rate,\n",
    "        \"epochs\": epochs,\n",
    "        \"batch_size\": batch_size,\n",
    "        \"max_len\": max_len,\n",
    "        \"pre-trained model\": ckpt,\n",
    "    }\n",
    "\n",
    "    wandb.config.update(config)\n",
    "\n",
    "    tokenizer = AutoTokenizer.from_pretrained(ckpt, do_lower_case=True)\n",
    "    model = AutoModelForSequenceClassification.from_pretrained(\n",
    "        ckpt, num_labels=num_labels\n",
    "    )\n",
    "\n",
    "    model.config.problem_type = \"multi_label_classification\"\n",
    "\n",
    "    train_loader = create_data_loader(df_train, tokenizer, max_len, batch_size)\n",
    "    test_loader = create_data_loader(df_test, tokenizer, max_len, batch_size)\n",
    "\n",
    "    optimizer = AdamW(model.parameters(), lr=learning_rate, correct_bias= False)\n",
    "\n",
    "    num_epochs = epochs\n",
    "    num_training_steps = num_epochs * len(train_loader)\n",
    "\n",
    "    lr_scheduler = get_scheduler(\n",
    "        name='linear', optimizer=optimizer,\n",
    "        num_warmup_steps=0, num_training_steps=num_training_steps\n",
    "    )\n",
    "\n",
    "    device = torch.device(\"cuda\") if torch.cuda.is_available() else torch.device(\"cpu\")\n",
    "    model.to(device)\n",
    "\n",
    "    progress_bar = tqdm(range(num_epochs))\n",
    "\n",
    "    b_history = defaultdict(list)\n",
    "\n",
    "    print(' *** Start training flow *** ')\n",
    "    best_acc = 0\n",
    "    best_epoch = 0\n",
    "\n",
    "    wandb.watch(model, log=\"all\")\n",
    "    for epoch in range(1, num_epochs+1):\n",
    "        print('='*100)\n",
    "        print(f\"Epoch {epoch} / {num_epochs}\")\n",
    "\n",
    "        print('-'*100)\n",
    "        train_loss, train_acc, train_time = train_epoch(\n",
    "            model, train_loader, optimizer, device, lr_scheduler, \n",
    "            loss_func=BCEWithLogitsLoss()\n",
    "        )\n",
    "        print(f\"training loss {train_loss}; training time {train_time}\")\n",
    "\n",
    "        val_loss, val_acc, val_time = eval_epoch(\n",
    "            model, test_loader, optimizer, device, lr_scheduler,\n",
    "            loss_func=BCEWithLogitsLoss()\n",
    "        )\n",
    "        print(f\"validation loss {val_loss}; validation time {val_time}\")\n",
    "\n",
    "        print(f\"training acc {train_acc}\")\n",
    "        print(f\"validation acc {val_acc}\")\n",
    "\n",
    "        if val_acc['f1'] > best_acc:\n",
    "            best_acc = val_acc['f1']\n",
    "            best_epoch = epoch\n",
    "            torch.save(model.state_dict(), f\"./model/{display_name.split('/')[-1]}_{dsn}.bin\")\n",
    "            wandb.save(f\"{ckpt.split('/')[-1]}_{dsn}_{best_acc}.bin\")\n",
    "            print(f\"best f1_score is updated: {best_acc}\")\n",
    "\n",
    "        b_history['train_acc'].append(train_acc)\n",
    "        b_history['train_loss'].append(train_loss)\n",
    "        b_history['val_acc'].append(val_acc)\n",
    "        b_history['val_loss'].append(val_loss)\n",
    "\n",
    "        wandb.log(\n",
    "            {\n",
    "                \"epoch\": epoch,\n",
    "                \"train/loss\": train_loss,\n",
    "                \"train/accuracy\": train_acc['f1'],\n",
    "                \"val/loss\": val_loss,\n",
    "                \"val/accuracy\": val_acc['f1'],\n",
    "            }\n",
    "        )\n",
    "\n",
    "        progress_bar.update(1)\n",
    "    print(' *** training is done !! *** ')\n",
    "    print(f\"Best epoch: {best_epoch}\")\n",
    "    print(f\"Best f1_score: {best_acc}\")\n",
    "\n",
    "    report, false_prediction_df = get_classification_report(\n",
    "        model, \n",
    "        test_loader, \n",
    "        f\"./model/{display_name.split('/')[-1]}_{dsn}.bin\",  \n",
    "        device, \n",
    "        label_col\n",
    "    )\n",
    "    \n",
    "    save_pt(\n",
    "        model, \n",
    "        f\"./model/{display_name.split('/')[-1]}_{dsn}.bin\", \n",
    "        f\"./model/torch_script/{ckpt}\"\n",
    "    )\n",
    "\n",
    "    print(report)\n",
    "\n",
    "    model_size = get_model_size(model)\n",
    "\n",
    "    print(model_size)\n",
    "    \n",
    "    wandb.log({\n",
    "        \"classification_report\": wandb.Table(dataframe=report),\n",
    "        \"false_prediction\": wandb.Table(dataframe=false_prediction_df),\n",
    "        \"model_size_info\": wandb.Table(dataframe=model_size)\n",
    "    })\n",
    "\n",
    "    wandb.finish()\n",
    "    \n",
    "    false_prediction_df.to_csv(f\"./false_pred/{display_name.split('/')[-1]}.csv\", encoding='utf-8', index=False)\n"
   ]
  },
  {
   "cell_type": "markdown",
   "id": "ae1de8a5",
   "metadata": {},
   "source": [
    "### execute experiments"
   ]
  },
  {
   "cell_type": "code",
   "execution_count": 25,
   "id": "ad52611e",
   "metadata": {},
   "outputs": [
    {
     "name": "stdout",
     "output_type": "stream",
     "text": [
      "(1787, 6) (447, 6)\n"
     ]
    }
   ],
   "source": [
    "df_train, df_test = train_test_split(df, test_size=0.2, random_state = 42)\n",
    "print(df_train.shape, df_test.shape)"
   ]
  },
  {
   "cell_type": "code",
   "execution_count": null,
   "id": "a856c30e",
   "metadata": {},
   "outputs": [
    {
     "data": {
      "text/html": [
       "Finishing last run (ID:336wnuw9) before initializing another..."
      ],
      "text/plain": [
       "<IPython.core.display.HTML object>"
      ]
     },
     "metadata": {},
     "output_type": "display_data"
    },
    {
     "data": {
      "text/html": [
       "Waiting for W&B process to finish... <strong style=\"color:green\">(success).</strong>"
      ],
      "text/plain": [
       "<IPython.core.display.HTML object>"
      ]
     },
     "metadata": {},
     "output_type": "display_data"
    },
    {
     "data": {
      "application/vnd.jupyter.widget-view+json": {
       "model_id": "",
       "version_major": 2,
       "version_minor": 0
      },
      "text/plain": [
       "VBox(children=(Label(value='0.000 MB of 0.000 MB uploaded (0.000 MB deduped)\\r'), FloatProgress(value=1.0, max…"
      ]
     },
     "metadata": {},
     "output_type": "display_data"
    },
    {
     "data": {
      "text/html": [
       "<style>\n",
       "    table.wandb td:nth-child(1) { padding: 0 10px; text-align: left ; width: auto;} td:nth-child(2) {text-align: left ; width: 100%}\n",
       "    .wandb-row { display: flex; flex-direction: row; flex-wrap: wrap; justify-content: flex-start; width: 100% }\n",
       "    .wandb-col { display: flex; flex-direction: column; flex-basis: 100%; flex: 1; padding: 10px; }\n",
       "    </style>\n",
       "<div class=\"wandb-row\"><div class=\"wandb-col\"><h3>Run history:</h3><br/><table class=\"wandb\"><tr><td>epoch</td><td>▁▁▁▁▂▂▂▂▂▃▃▃▃▃▃▄▄▄▄▄▅▅▅▅▅▅▆▆▆▆▆▆▇▇▇▇▇███</td></tr><tr><td>train/accuracy</td><td>▁▆▇▇████████████████████████████████████</td></tr><tr><td>train/loss</td><td>█▃▃▁▁▁▁▁▁▁▁▁▁▁▁▁▁▁▁▁▁▁▁▁▁▁▁▁▁▁▁▁▁▁▁▁▁▁▁▁</td></tr><tr><td>val/accuracy</td><td>▃▄▁▄█▃▃▆▆▄▆▅▅▄▅▄▅▅▅▆▆▅▅▅▅▅▅▆▇▆▆▆▆▆▆▆▆▆▆▆</td></tr><tr><td>val/loss</td><td>▃▂▁█▃▁▃▂▂▅▅▃▇▂▃▄▃▃▆▃▆▄▄▄▆▄▄▂▅▄▃▃▄▃▄▁▅▄▁▄</td></tr></table><br/></div><div class=\"wandb-col\"><h3>Run summary:</h3><br/><table class=\"wandb\"><tr><td>epoch</td><td>50</td></tr><tr><td>train/accuracy</td><td>100.0</td></tr><tr><td>train/loss</td><td>0.00143</td></tr><tr><td>val/accuracy</td><td>95.15623</td></tr><tr><td>val/loss</td><td>0.22397</td></tr></table><br/></div></div>"
      ],
      "text/plain": [
       "<IPython.core.display.HTML object>"
      ]
     },
     "metadata": {},
     "output_type": "display_data"
    },
    {
     "data": {
      "text/html": [
       "Synced <strong style=\"color:#cdcd00\">hfl/chinese-roberta-wwm-ext_2022-07-05 06:52:01.567224</strong>: <a href=\"https://wandb.ai/weber12321/audience_bert_4_class/runs/336wnuw9\" target=\"_blank\">https://wandb.ai/weber12321/audience_bert_4_class/runs/336wnuw9</a><br/>Synced 5 W&B file(s), 0 media file(s), 0 artifact file(s) and 0 other file(s)"
      ],
      "text/plain": [
       "<IPython.core.display.HTML object>"
      ]
     },
     "metadata": {},
     "output_type": "display_data"
    },
    {
     "data": {
      "text/html": [
       "Find logs at: <code>./wandb/run-20220705_065201-336wnuw9/logs</code>"
      ],
      "text/plain": [
       "<IPython.core.display.HTML object>"
      ]
     },
     "metadata": {},
     "output_type": "display_data"
    },
    {
     "data": {
      "text/html": [
       "Successfully finished last run (ID:336wnuw9). Initializing new run:<br/>"
      ],
      "text/plain": [
       "<IPython.core.display.HTML object>"
      ]
     },
     "metadata": {},
     "output_type": "display_data"
    },
    {
     "data": {
      "text/html": [
       "Tracking run with wandb version 0.12.20"
      ],
      "text/plain": [
       "<IPython.core.display.HTML object>"
      ]
     },
     "metadata": {},
     "output_type": "display_data"
    },
    {
     "data": {
      "text/html": [
       "Run data is saved locally in <code>/home/jovyan/work/wandb/run-20220705_071358-2bllpo1y</code>"
      ],
      "text/plain": [
       "<IPython.core.display.HTML object>"
      ]
     },
     "metadata": {},
     "output_type": "display_data"
    },
    {
     "data": {
      "text/html": [
       "Syncing run <strong><a href=\"https://wandb.ai/weber12321/audience_bert_4_class/runs/2bllpo1y\" target=\"_blank\">hfl/chinese-roberta-wwm-ext_2022-07-05 07:13:58.748257</a></strong> to <a href=\"https://wandb.ai/weber12321/audience_bert_4_class\" target=\"_blank\">Weights & Biases</a> (<a href=\"https://wandb.me/run\" target=\"_blank\">docs</a>)<br/>"
      ],
      "text/plain": [
       "<IPython.core.display.HTML object>"
      ]
     },
     "metadata": {},
     "output_type": "display_data"
    }
   ],
   "source": [
    "torch.cuda.empty_cache()\n",
    "\n",
    "run(\n",
    "    df_train=df_train, \n",
    "    df_test=df_test, \n",
    "    epochs = 3,\n",
    "    batch_size=32, \n",
    "    max_len=100, \n",
    "    ckpt=\"hfl/chinese-roberta-wwm-ext\"\n",
    ")"
   ]
  },
  {
   "cell_type": "code",
   "execution_count": 28,
   "id": "7e8c7c58",
   "metadata": {},
   "outputs": [
    {
     "data": {
      "text/html": [
       "Tracking run with wandb version 0.12.20"
      ],
      "text/plain": [
       "<IPython.core.display.HTML object>"
      ]
     },
     "metadata": {},
     "output_type": "display_data"
    },
    {
     "data": {
      "text/html": [
       "Run data is saved locally in <code>/home/jovyan/work/wandb/run-20220701_072252-1bm2mfaj</code>"
      ],
      "text/plain": [
       "<IPython.core.display.HTML object>"
      ]
     },
     "metadata": {},
     "output_type": "display_data"
    },
    {
     "data": {
      "text/html": [
       "Syncing run <strong><a href=\"https://wandb.ai/weber12321/audience_bert_4_class/runs/1bm2mfaj\" target=\"_blank\">hfl/chinese-macbert-base_2022-07-01 07:22:52.631683</a></strong> to <a href=\"https://wandb.ai/weber12321/audience_bert_4_class\" target=\"_blank\">Weights & Biases</a> (<a href=\"https://wandb.me/run\" target=\"_blank\">docs</a>)<br/>"
      ],
      "text/plain": [
       "<IPython.core.display.HTML object>"
      ]
     },
     "metadata": {},
     "output_type": "display_data"
    },
    {
     "data": {
      "application/vnd.jupyter.widget-view+json": {
       "model_id": "5984d64b8e6942398df2832ab6c10b6c",
       "version_major": 2,
       "version_minor": 0
      },
      "text/plain": [
       "Downloading:   0%|          | 0.00/19.0 [00:00<?, ?B/s]"
      ]
     },
     "metadata": {},
     "output_type": "display_data"
    },
    {
     "data": {
      "application/vnd.jupyter.widget-view+json": {
       "model_id": "4578318775de45639a3ddc227b9c7344",
       "version_major": 2,
       "version_minor": 0
      },
      "text/plain": [
       "Downloading:   0%|          | 0.00/659 [00:00<?, ?B/s]"
      ]
     },
     "metadata": {},
     "output_type": "display_data"
    },
    {
     "data": {
      "application/vnd.jupyter.widget-view+json": {
       "model_id": "3f7ceff5e71244bbac748bef0e529962",
       "version_major": 2,
       "version_minor": 0
      },
      "text/plain": [
       "Downloading:   0%|          | 0.00/107k [00:00<?, ?B/s]"
      ]
     },
     "metadata": {},
     "output_type": "display_data"
    },
    {
     "data": {
      "application/vnd.jupyter.widget-view+json": {
       "model_id": "aec7c7831b694b20a3d7eeeee2130fcf",
       "version_major": 2,
       "version_minor": 0
      },
      "text/plain": [
       "Downloading:   0%|          | 0.00/263k [00:00<?, ?B/s]"
      ]
     },
     "metadata": {},
     "output_type": "display_data"
    },
    {
     "data": {
      "application/vnd.jupyter.widget-view+json": {
       "model_id": "8f85bde1c3ae4af2a9891acc35603de3",
       "version_major": 2,
       "version_minor": 0
      },
      "text/plain": [
       "Downloading:   0%|          | 0.00/2.00 [00:00<?, ?B/s]"
      ]
     },
     "metadata": {},
     "output_type": "display_data"
    },
    {
     "data": {
      "application/vnd.jupyter.widget-view+json": {
       "model_id": "cf48a5c8ea504dec86f8b1dfbcb757cb",
       "version_major": 2,
       "version_minor": 0
      },
      "text/plain": [
       "Downloading:   0%|          | 0.00/112 [00:00<?, ?B/s]"
      ]
     },
     "metadata": {},
     "output_type": "display_data"
    },
    {
     "data": {
      "application/vnd.jupyter.widget-view+json": {
       "model_id": "86d195457a8f47128d7ee6b1b9d64250",
       "version_major": 2,
       "version_minor": 0
      },
      "text/plain": [
       "Downloading:   0%|          | 0.00/393M [00:00<?, ?B/s]"
      ]
     },
     "metadata": {},
     "output_type": "display_data"
    },
    {
     "name": "stderr",
     "output_type": "stream",
     "text": [
      "Some weights of the model checkpoint at hfl/chinese-macbert-base were not used when initializing BertForSequenceClassification: ['cls.seq_relationship.weight', 'cls.predictions.transform.dense.weight', 'cls.predictions.transform.LayerNorm.weight', 'cls.seq_relationship.bias', 'cls.predictions.transform.dense.bias', 'cls.predictions.decoder.bias', 'cls.predictions.transform.LayerNorm.bias', 'cls.predictions.decoder.weight', 'cls.predictions.bias']\n",
      "- This IS expected if you are initializing BertForSequenceClassification from the checkpoint of a model trained on another task or with another architecture (e.g. initializing a BertForSequenceClassification model from a BertForPreTraining model).\n",
      "- This IS NOT expected if you are initializing BertForSequenceClassification from the checkpoint of a model that you expect to be exactly identical (initializing a BertForSequenceClassification model from a BertForSequenceClassification model).\n",
      "Some weights of BertForSequenceClassification were not initialized from the model checkpoint at hfl/chinese-macbert-base and are newly initialized: ['classifier.weight', 'classifier.bias']\n",
      "You should probably TRAIN this model on a down-stream task to be able to use it for predictions and inference.\n"
     ]
    },
    {
     "data": {
      "application/vnd.jupyter.widget-view+json": {
       "model_id": "4825e258f5fd4146813666fea94b5ad0",
       "version_major": 2,
       "version_minor": 0
      },
      "text/plain": [
       "  0%|          | 0/50 [00:00<?, ?it/s]"
      ]
     },
     "metadata": {},
     "output_type": "display_data"
    },
    {
     "name": "stdout",
     "output_type": "stream",
     "text": [
      " *** Start training flow *** \n",
      "====================================================================================================\n",
      "Epoch 1 / 50\n",
      "----------------------------------------------------------------------------------------------------\n",
      "training loss 0.152379110455513; training time 0.3513642907142639\n",
      "validation loss 0.2144685536623001; validation time 0.029507593313852946\n",
      "training acc {'accuracy': 75.15388919977616, 'precision': 88.8794966621917, 'recall': 87.54448398576513, 'f1': 88.20138473572123}\n",
      "validation acc {'accuracy': 84.78747203579418, 'precision': 93.12958420406443, 'recall': 93.78453105234743, 'f1': 93.32786890818099}\n",
      "best f1_score is updated: 93.32786890818099\n",
      "====================================================================================================\n",
      "Epoch 2 / 50\n",
      "----------------------------------------------------------------------------------------------------\n",
      "training loss 0.1352216750383377; training time 0.3545873165130615\n",
      "validation loss 0.18024364113807678; validation time 0.029735279083251954\n",
      "training acc {'accuracy': 89.03189703413543, 'precision': 95.01820279297485, 'recall': 95.43297746144721, 'f1': 95.21683430356588}\n",
      "validation acc {'accuracy': 86.57718120805369, 'precision': 94.41578157402712, 'recall': 92.96452501910939, 'f1': 93.65038539465259}\n",
      "best f1_score is updated: 93.65038539465259\n",
      "====================================================================================================\n",
      "Epoch 3 / 50\n",
      "----------------------------------------------------------------------------------------------------\n",
      "training loss 0.12828589975833893; training time 0.35703332821528116\n",
      "validation loss 0.10748347640037537; validation time 0.029961458841959634\n",
      "training acc {'accuracy': 91.32624510352547, 'precision': 96.63847416331676, 'recall': 96.91577698695136, 'f1': 96.7742400407458}\n",
      "validation acc {'accuracy': 87.69574944071589, 'precision': 95.86675991640179, 'recall': 93.57172743636994, 'f1': 94.69711990225646}\n",
      "best f1_score is updated: 94.69711990225646\n",
      "====================================================================================================\n",
      "Epoch 4 / 50\n",
      "----------------------------------------------------------------------------------------------------\n",
      "training loss 0.04816475510597229; training time 0.3592287103335063\n",
      "validation loss 0.0890132412314415; validation time 0.03024239937464396\n",
      "training acc {'accuracy': 93.84443200895355, 'precision': 97.6512637509158, 'recall': 98.13167259786478, 'f1': 97.88799621379455}\n",
      "validation acc {'accuracy': 88.59060402684564, 'precision': 95.2382589976652, 'recall': 94.75095348983244, 'f1': 94.98976509841978}\n",
      "best f1_score is updated: 94.98976509841978\n",
      "====================================================================================================\n",
      "Epoch 5 / 50\n",
      "----------------------------------------------------------------------------------------------------\n",
      "training loss 0.08572518080472946; training time 0.36010950009028114\n",
      "validation loss 0.298149436712265; validation time 0.030600825945536297\n",
      "training acc {'accuracy': 96.1947397873531, 'precision': 98.42176974755571, 'recall': 99.25860023724793, 'f1': 98.8363756822494}\n",
      "validation acc {'accuracy': 89.03803131991052, 'precision': 95.31378013466428, 'recall': 95.20791643481739, 'f1': 95.22195715783906}\n",
      "best f1_score is updated: 95.22195715783906\n",
      "====================================================================================================\n",
      "Epoch 6 / 50\n",
      "----------------------------------------------------------------------------------------------------\n",
      "training loss 0.08677024394273758; training time 0.3618199825286865\n",
      "validation loss 0.1994556337594986; validation time 0.030588595072428386\n",
      "training acc {'accuracy': 97.70565193060996, 'precision': 99.06129106682509, 'recall': 99.52550415183867, 'f1': 99.29151361639701}\n",
      "validation acc {'accuracy': 89.03803131991052, 'precision': 95.32080403404886, 'recall': 94.96218693212194, 'f1': 95.0952326609536}\n",
      "====================================================================================================\n",
      "Epoch 7 / 50\n",
      "----------------------------------------------------------------------------------------------------\n",
      "training loss 0.02344595454633236; training time 0.36728161176045737\n",
      "validation loss 0.09851977974176407; validation time 0.030755917231241863\n",
      "training acc {'accuracy': 98.60100727476218, 'precision': 99.44170134742633, 'recall': 99.8220640569395, 'f1': 99.6309515050656}\n",
      "validation acc {'accuracy': 88.81431767337807, 'precision': 95.6131245601689, 'recall': 95.10836352950152, 'f1': 95.33968350580442}\n",
      "best f1_score is updated: 95.33968350580442\n",
      "====================================================================================================\n",
      "Epoch 8 / 50\n",
      "----------------------------------------------------------------------------------------------------\n",
      "training loss 0.007833805866539478; training time 0.36628209352493285\n",
      "validation loss 0.277241051197052; validation time 0.03084800640741984\n",
      "training acc {'accuracy': 98.99272523782876, 'precision': 99.53056807859387, 'recall': 99.94068801897983, 'f1': 99.73449335352443}\n",
      "validation acc {'accuracy': 88.81431767337807, 'precision': 95.50578258966738, 'recall': 94.6387395844921, 'f1': 95.03555759760027}\n",
      "====================================================================================================\n",
      "Epoch 9 / 50\n",
      "----------------------------------------------------------------------------------------------------\n",
      "training loss 0.008860239759087563; training time 0.3711240490277608\n",
      "validation loss 0.26613959670066833; validation time 0.031122346719106037\n",
      "training acc {'accuracy': 99.6082820369334, 'precision': 99.85203950373179, 'recall': 99.94068801897983, 'f1': 99.89631963214707}\n",
      "validation acc {'accuracy': 88.36689038031321, 'precision': 95.25778888278542, 'recall': 94.6387395844921, 'f1': 94.9225381726421}\n",
      "====================================================================================================\n",
      "Epoch 10 / 50\n",
      "----------------------------------------------------------------------------------------------------\n",
      "training loss 0.00724753737449646; training time 0.371310559908549\n",
      "validation loss 0.00538214948028326; validation time 0.03089450200398763\n",
      "training acc {'accuracy': 99.72020145495244, 'precision': 99.91106667331849, 'recall': 99.94068801897983, 'f1': 99.92586868999905}\n",
      "validation acc {'accuracy': 89.26174496644296, 'precision': 95.59428119261557, 'recall': 95.23975477123193, 'f1': 95.40587796812238}\n",
      "best f1_score is updated: 95.40587796812238\n",
      "====================================================================================================\n",
      "Epoch 11 / 50\n",
      "----------------------------------------------------------------------------------------------------\n",
      "training loss 0.005877797491848469; training time 0.3695435365041097\n",
      "validation loss 0.22526980936527252; validation time 0.031111292044321694\n",
      "training acc {'accuracy': 99.77616116396194, 'precision': 99.94068801897983, 'recall': 99.94068801897983, 'f1': 99.94068801897983}\n",
      "validation acc {'accuracy': 88.59060402684564, 'precision': 95.59020268701646, 'recall': 94.60908659673255, 'f1': 95.0775294519684}\n",
      "====================================================================================================\n",
      "Epoch 12 / 50\n",
      "----------------------------------------------------------------------------------------------------\n",
      "training loss 0.005587050225585699; training time 0.37365532318751016\n",
      "validation loss 0.0986446961760521; validation time 0.03114891846974691\n",
      "training acc {'accuracy': 99.88808058198097, 'precision': 100.0, 'recall': 99.94068801897983, 'f1': 99.97032640592427}\n",
      "validation acc {'accuracy': 88.36689038031321, 'precision': 95.37988195037768, 'recall': 94.60795278417444, 'f1': 94.96335038583803}\n",
      "====================================================================================================\n",
      "Epoch 13 / 50\n",
      "----------------------------------------------------------------------------------------------------\n",
      "training loss 0.005071535240858793; training time 0.37317063808441164\n",
      "validation loss 0.25193899869918823; validation time 0.031512010097503665\n",
      "training acc {'accuracy': 99.88808058198097, 'precision': 100.0, 'recall': 99.94068801897983, 'f1': 99.97030827938087}\n",
      "validation acc {'accuracy': 88.36689038031321, 'precision': 95.58980132599214, 'recall': 94.50660462907877, 'f1': 95.02761108150382}\n",
      "====================================================================================================\n",
      "Epoch 14 / 50\n",
      "----------------------------------------------------------------------------------------------------\n",
      "training loss 0.0028232275508344173; training time 0.37540170351664226\n",
      "validation loss 0.3656107187271118; validation time 0.031190657615661622\n",
      "training acc {'accuracy': 99.88808058198097, 'precision': 99.97034400948992, 'recall': 99.97034400948992, 'f1': 99.97034400948992}\n",
      "validation acc {'accuracy': 88.36689038031321, 'precision': 95.48062718237979, 'recall': 94.50547081652067, 'f1': 94.96604530830832}\n",
      "====================================================================================================\n",
      "Epoch 15 / 50\n",
      "----------------------------------------------------------------------------------------------------\n",
      "training loss 0.0031034487765282393; training time 0.3845691760381063\n",
      "validation loss 0.01622377522289753; validation time 0.031232674916585285\n",
      "training acc {'accuracy': 99.88808058198097, 'precision': 99.97034400948992, 'recall': 99.97034400948992, 'f1': 99.97034400948992}\n",
      "validation acc {'accuracy': 88.81431767337807, 'precision': 95.49822180218875, 'recall': 94.84605342137709, 'f1': 95.14279399924163}\n",
      "====================================================================================================\n",
      "Epoch 16 / 50\n",
      "----------------------------------------------------------------------------------------------------\n",
      "training loss 0.002974942559376359; training time 0.37581280469894407\n",
      "validation loss 0.21532195806503296; validation time 0.03135821024576823\n",
      "training acc {'accuracy': 99.94404029099049, 'precision': 100.0, 'recall': 99.97034400948992, 'f1': 99.98516332832878}\n",
      "validation acc {'accuracy': 88.81431767337807, 'precision': 95.27605071812388, 'recall': 94.73821021334675, 'f1': 94.97925000176537}\n",
      "====================================================================================================\n",
      "Epoch 17 / 50\n",
      "----------------------------------------------------------------------------------------------------\n",
      "training loss 0.0030083151068538427; training time 0.37605631748835244\n",
      "validation loss 0.20201534032821655; validation time 0.03148070176442464\n",
      "training acc {'accuracy': 99.94404029099049, 'precision': 100.0, 'recall': 99.97034400948992, 'f1': 99.9851630775955}\n",
      "validation acc {'accuracy': 88.59060402684564, 'precision': 95.48685383244207, 'recall': 94.62395422884295, 'f1': 95.02620826087941}\n",
      "====================================================================================================\n",
      "Epoch 18 / 50\n",
      "----------------------------------------------------------------------------------------------------\n",
      "training loss 0.00266262236982584; training time 0.3847755471865336\n",
      "validation loss 0.06569118052721024; validation time 0.03148080905278524\n",
      "training acc {'accuracy': 99.94404029099049, 'precision': 100.0, 'recall': 99.97034400948992, 'f1': 99.9851630775955}\n",
      "validation acc {'accuracy': 88.81431767337807, 'precision': 95.70788580592227, 'recall': 94.74357145372332, 'f1': 95.20186665250827}\n",
      "====================================================================================================\n",
      "Epoch 19 / 50\n",
      "----------------------------------------------------------------------------------------------------\n",
      "training loss 0.0022530530113726854; training time 0.37703531980514526\n",
      "validation loss 0.18999575078487396; validation time 0.031171727180480956\n",
      "training acc {'accuracy': 99.94404029099049, 'precision': 100.0, 'recall': 99.97034400948992, 'f1': 99.9851630775955}\n",
      "validation acc {'accuracy': 88.81431767337807, 'precision': 95.4910384331116, 'recall': 94.74357145372332, 'f1': 95.08937280451558}\n",
      "====================================================================================================\n",
      "Epoch 20 / 50\n",
      "----------------------------------------------------------------------------------------------------\n",
      "training loss 0.002588283736258745; training time 0.3769774675369263\n",
      "validation loss 0.17902041971683502; validation time 0.031460086504618325\n",
      "training acc {'accuracy': 99.94404029099049, 'precision': 100.0, 'recall': 99.97034400948992, 'f1': 99.98516332832878}\n",
      "validation acc {'accuracy': 89.26174496644296, 'precision': 95.50209177832375, 'recall': 94.98045600190665, 'f1': 95.21635150027706}\n",
      "====================================================================================================\n",
      "Epoch 21 / 50\n",
      "----------------------------------------------------------------------------------------------------\n",
      "training loss 0.002568247262388468; training time 0.3769755005836487\n",
      "validation loss 0.10850681364536285; validation time 0.03147209882736206\n",
      "training acc {'accuracy': 99.94404029099049, 'precision': 100.0, 'recall': 99.97034400948992, 'f1': 99.9851630775955}\n",
      "validation acc {'accuracy': 88.81431767337807, 'precision': 95.59279092737204, 'recall': 94.6303670053164, 'f1': 95.09233068271243}\n",
      "====================================================================================================\n",
      "Epoch 22 / 50\n",
      "----------------------------------------------------------------------------------------------------\n",
      "training loss 0.00241714995354414; training time 0.3780359466870626\n",
      "validation loss 0.18723878264427185; validation time 0.031487011909484865\n",
      "training acc {'accuracy': 100.0, 'precision': 100.0, 'recall': 100.0, 'f1': 100.0}\n",
      "validation acc {'accuracy': 89.03803131991052, 'precision': 95.59844703596933, 'recall': 94.74348917726209, 'f1': 95.15184166659316}\n",
      "====================================================================================================\n",
      "Epoch 23 / 50\n",
      "----------------------------------------------------------------------------------------------------\n",
      "training loss 0.0027899029664695263; training time 0.3773540536562602\n",
      "validation loss 0.4348269999027252; validation time 0.031500816345214844\n",
      "training acc {'accuracy': 100.0, 'precision': 100.0, 'recall': 100.0, 'f1': 100.0}\n",
      "validation acc {'accuracy': 89.03803131991052, 'precision': 95.49643566972645, 'recall': 94.86733382996094, 'f1': 95.15684051639633}\n",
      "====================================================================================================\n",
      "Epoch 24 / 50\n",
      "----------------------------------------------------------------------------------------------------\n",
      "training loss 0.0020788577385246754; training time 0.378036367893219\n",
      "validation loss 0.013970543630421162; validation time 0.03150132497151693\n",
      "training acc {'accuracy': 100.0, 'precision': 100.0, 'recall': 100.0, 'f1': 100.0}\n",
      "validation acc {'accuracy': 88.81431767337807, 'precision': 95.48392524437199, 'recall': 94.6303670053164, 'f1': 95.03623413128877}\n",
      "====================================================================================================\n",
      "Epoch 25 / 50\n",
      "----------------------------------------------------------------------------------------------------\n",
      "training loss 0.002098637633025646; training time 0.3787376205126444\n",
      "validation loss 0.12725085020065308; validation time 0.03146740992863973\n",
      "training acc {'accuracy': 99.94404029099049, 'precision': 100.0, 'recall': 99.97034400948992, 'f1': 99.9851630775955}\n",
      "validation acc {'accuracy': 89.48545861297539, 'precision': 95.62690287504222, 'recall': 94.98045600190665, 'f1': 95.27578734169579}\n",
      "====================================================================================================\n",
      "Epoch 26 / 50\n",
      "----------------------------------------------------------------------------------------------------\n",
      "training loss 0.0019147214479744434; training time 0.3791187008221944\n",
      "validation loss 0.1349291056394577; validation time 0.031466889381408694\n",
      "training acc {'accuracy': 100.0, 'precision': 100.0, 'recall': 100.0, 'f1': 100.0}\n",
      "validation acc {'accuracy': 88.36689038031321, 'precision': 95.34765876009274, 'recall': 94.39340018067185, 'f1': 94.85536228357734}\n",
      "====================================================================================================\n",
      "Epoch 27 / 50\n",
      "----------------------------------------------------------------------------------------------------\n",
      "training loss 0.002511309925466776; training time 0.3792886734008789\n",
      "validation loss 0.1546851396560669; validation time 0.031427772839864095\n",
      "training acc {'accuracy': 100.0, 'precision': 100.0, 'recall': 100.0, 'f1': 100.0}\n",
      "validation acc {'accuracy': 88.59060402684564, 'precision': 95.35405916971898, 'recall': 94.51188359299411, 'f1': 94.9163725924044}\n",
      "====================================================================================================\n",
      "Epoch 28 / 50\n",
      "----------------------------------------------------------------------------------------------------\n",
      "training loss 0.00161746796220541; training time 0.37937273979187014\n",
      "validation loss 0.006750772707164288; validation time 0.0314990242322286\n",
      "training acc {'accuracy': 100.0, 'precision': 100.0, 'recall': 100.0, 'f1': 100.0}\n",
      "validation acc {'accuracy': 88.36689038031321, 'precision': 95.34119881177234, 'recall': 94.27491676834957, 'f1': 94.79406554137549}\n",
      "====================================================================================================\n",
      "Epoch 29 / 50\n",
      "----------------------------------------------------------------------------------------------------\n",
      "training loss 0.0018878919072449207; training time 0.3890720089276632\n",
      "validation loss 0.0016327061457559466; validation time 0.031520684560139976\n",
      "training acc {'accuracy': 100.0, 'precision': 100.0, 'recall': 100.0, 'f1': 100.0}\n",
      "validation acc {'accuracy': 88.81431767337807, 'precision': 95.3600068303058, 'recall': 94.63564596923175, 'f1': 94.98347942903264}\n",
      "====================================================================================================\n",
      "Epoch 30 / 50\n",
      "----------------------------------------------------------------------------------------------------\n",
      "training loss 0.0018903656164184213; training time 0.3795453667640686\n",
      "validation loss 0.22593455016613007; validation time 0.03146642843882243\n",
      "training acc {'accuracy': 100.0, 'precision': 100.0, 'recall': 100.0, 'f1': 100.0}\n",
      "validation acc {'accuracy': 88.81431767337807, 'precision': 95.47758355410014, 'recall': 94.51188359299411, 'f1': 94.9755082528059}\n",
      "====================================================================================================\n",
      "Epoch 31 / 50\n",
      "----------------------------------------------------------------------------------------------------\n",
      "training loss 0.0013179340166971087; training time 0.38031007448832194\n",
      "validation loss 0.39318379759788513; validation time 0.03154468536376953\n",
      "training acc {'accuracy': 100.0, 'precision': 100.0, 'recall': 100.0, 'f1': 100.0}\n",
      "validation acc {'accuracy': 88.59060402684564, 'precision': 95.35405916971898, 'recall': 94.51188359299411, 'f1': 94.9163725924044}\n",
      "====================================================================================================\n",
      "Epoch 32 / 50\n",
      "----------------------------------------------------------------------------------------------------\n",
      "training loss 0.002047803020104766; training time 0.3798329989115397\n",
      "validation loss 0.12434078007936478; validation time 0.0314834992090861\n",
      "training acc {'accuracy': 100.0, 'precision': 100.0, 'recall': 100.0, 'f1': 100.0}\n",
      "validation acc {'accuracy': 88.59060402684564, 'precision': 95.35405916971898, 'recall': 94.51188359299411, 'f1': 94.9163725924044}\n",
      "====================================================================================================\n",
      "Epoch 33 / 50\n",
      "----------------------------------------------------------------------------------------------------\n",
      "training loss 0.00162527896463871; training time 0.37965167363484703\n",
      "validation loss 0.22878491878509521; validation time 0.031532108783721924\n",
      "training acc {'accuracy': 100.0, 'precision': 100.0, 'recall': 100.0, 'f1': 100.0}\n",
      "validation acc {'accuracy': 88.81431767337807, 'precision': 95.48392524437199, 'recall': 94.6303670053164, 'f1': 95.03623413128877}\n",
      "====================================================================================================\n",
      "Epoch 34 / 50\n",
      "----------------------------------------------------------------------------------------------------\n",
      "training loss 0.00138827133923769; training time 0.37986768086751305\n",
      "validation loss 0.17904262244701385; validation time 0.03149710098902384\n",
      "training acc {'accuracy': 100.0, 'precision': 100.0, 'recall': 100.0, 'f1': 100.0}\n",
      "validation acc {'accuracy': 88.81431767337807, 'precision': 95.48392524437199, 'recall': 94.6303670053164, 'f1': 95.03623413128877}\n",
      "====================================================================================================\n",
      "Epoch 35 / 50\n",
      "----------------------------------------------------------------------------------------------------\n",
      "training loss 0.0014405176043510437; training time 0.3800202965736389\n",
      "validation loss 0.15091003477573395; validation time 0.03150832255681356\n",
      "training acc {'accuracy': 100.0, 'precision': 100.0, 'recall': 100.0, 'f1': 100.0}\n",
      "validation acc {'accuracy': 88.81431767337807, 'precision': 95.48392524437199, 'recall': 94.6303670053164, 'f1': 95.03623413128877}\n",
      "====================================================================================================\n",
      "Epoch 36 / 50\n",
      "----------------------------------------------------------------------------------------------------\n",
      "training loss 0.0012376471422612667; training time 0.389479140440623\n",
      "validation loss 0.19938795268535614; validation time 0.0315451184908549\n",
      "training acc {'accuracy': 100.0, 'precision': 100.0, 'recall': 100.0, 'f1': 100.0}\n",
      "validation acc {'accuracy': 88.81431767337807, 'precision': 95.48392524437199, 'recall': 94.6303670053164, 'f1': 95.03623413128877}\n",
      "====================================================================================================\n",
      "Epoch 37 / 50\n",
      "----------------------------------------------------------------------------------------------------\n",
      "training loss 0.0024375650100409985; training time 0.3800919691721598\n",
      "validation loss 0.30402469635009766; validation time 0.03155862887700399\n",
      "training acc {'accuracy': 100.0, 'precision': 100.0, 'recall': 100.0, 'f1': 100.0}\n",
      "validation acc {'accuracy': 88.81431767337807, 'precision': 95.48392524437199, 'recall': 94.6303670053164, 'f1': 95.03623413128877}\n",
      "====================================================================================================\n",
      "Epoch 38 / 50\n",
      "----------------------------------------------------------------------------------------------------\n",
      "training loss 0.0016367112984880805; training time 0.3800361673037211\n",
      "validation loss 0.2344343066215515; validation time 0.03144244352976481\n",
      "training acc {'accuracy': 100.0, 'precision': 100.0, 'recall': 100.0, 'f1': 100.0}\n",
      "validation acc {'accuracy': 88.81431767337807, 'precision': 95.47758355410014, 'recall': 94.51188359299411, 'f1': 94.9755082528059}\n",
      "====================================================================================================\n",
      "Epoch 39 / 50\n",
      "----------------------------------------------------------------------------------------------------\n",
      "training loss 0.0014887262368574739; training time 0.3800141453742981\n",
      "validation loss 0.029412295669317245; validation time 0.031531731287638344\n",
      "training acc {'accuracy': 100.0, 'precision': 100.0, 'recall': 100.0, 'f1': 100.0}\n",
      "validation acc {'accuracy': 88.81431767337807, 'precision': 95.47758355410014, 'recall': 94.51188359299411, 'f1': 94.9755082528059}\n",
      "====================================================================================================\n",
      "Epoch 40 / 50\n",
      "----------------------------------------------------------------------------------------------------\n",
      "training loss 0.0011691974941641092; training time 0.380074147383372\n",
      "validation loss 0.14068922400474548; validation time 0.0314903974533081\n",
      "training acc {'accuracy': 100.0, 'precision': 100.0, 'recall': 100.0, 'f1': 100.0}\n",
      "validation acc {'accuracy': 88.81431767337807, 'precision': 95.48392524437199, 'recall': 94.6303670053164, 'f1': 95.03623413128877}\n",
      "====================================================================================================\n",
      "Epoch 41 / 50\n",
      "----------------------------------------------------------------------------------------------------\n",
      "training loss 0.0009630962740629911; training time 0.3800596594810486\n",
      "validation loss 0.25088900327682495; validation time 0.03149282534917196\n",
      "training acc {'accuracy': 100.0, 'precision': 100.0, 'recall': 100.0, 'f1': 100.0}\n",
      "validation acc {'accuracy': 88.81431767337807, 'precision': 95.48392524437199, 'recall': 94.6303670053164, 'f1': 95.03623413128877}\n",
      "====================================================================================================\n",
      "Epoch 42 / 50\n",
      "----------------------------------------------------------------------------------------------------\n",
      "training loss 0.001423514331690967; training time 0.379995596408844\n",
      "validation loss 0.253301739692688; validation time 0.0315127968788147\n",
      "training acc {'accuracy': 100.0, 'precision': 100.0, 'recall': 100.0, 'f1': 100.0}\n",
      "validation acc {'accuracy': 88.81431767337807, 'precision': 95.48392524437199, 'recall': 94.6303670053164, 'f1': 95.03623413128877}\n",
      "====================================================================================================\n",
      "Epoch 43 / 50\n",
      "----------------------------------------------------------------------------------------------------\n",
      "training loss 0.0014251472894102335; training time 0.3800908128420512\n",
      "validation loss 0.17000113427639008; validation time 0.041491254170735674\n",
      "training acc {'accuracy': 100.0, 'precision': 100.0, 'recall': 100.0, 'f1': 100.0}\n",
      "validation acc {'accuracy': 88.81431767337807, 'precision': 95.48392524437199, 'recall': 94.6303670053164, 'f1': 95.03623413128877}\n",
      "====================================================================================================\n",
      "Epoch 44 / 50\n",
      "----------------------------------------------------------------------------------------------------\n",
      "training loss 0.0013417444424703717; training time 0.37997565666834515\n",
      "validation loss 0.10078564286231995; validation time 0.03154464562733968\n",
      "training acc {'accuracy': 100.0, 'precision': 100.0, 'recall': 100.0, 'f1': 100.0}\n",
      "validation acc {'accuracy': 88.81431767337807, 'precision': 95.47758355410014, 'recall': 94.51188359299411, 'f1': 94.9755082528059}\n",
      "====================================================================================================\n",
      "Epoch 45 / 50\n",
      "----------------------------------------------------------------------------------------------------\n",
      "training loss 0.0012220204807817936; training time 0.380093785127004\n",
      "validation loss 0.20510129630565643; validation time 0.03151646852493286\n",
      "training acc {'accuracy': 100.0, 'precision': 100.0, 'recall': 100.0, 'f1': 100.0}\n",
      "validation acc {'accuracy': 88.81431767337807, 'precision': 95.47758355410014, 'recall': 94.51188359299411, 'f1': 94.9755082528059}\n",
      "====================================================================================================\n",
      "Epoch 46 / 50\n",
      "----------------------------------------------------------------------------------------------------\n",
      "training loss 0.0017208149656653404; training time 0.3801661173502604\n",
      "validation loss 0.2591933012008667; validation time 0.03152714172999064\n",
      "training acc {'accuracy': 100.0, 'precision': 100.0, 'recall': 100.0, 'f1': 100.0}\n",
      "validation acc {'accuracy': 88.81431767337807, 'precision': 95.47758355410014, 'recall': 94.51188359299411, 'f1': 94.9755082528059}\n",
      "====================================================================================================\n",
      "Epoch 47 / 50\n",
      "----------------------------------------------------------------------------------------------------\n",
      "training loss 0.0013033451978117228; training time 0.3821667432785034\n",
      "validation loss 0.26434656977653503; validation time 0.03153964678446452\n",
      "training acc {'accuracy': 100.0, 'precision': 100.0, 'recall': 100.0, 'f1': 100.0}\n",
      "validation acc {'accuracy': 88.81431767337807, 'precision': 95.47758355410014, 'recall': 94.51188359299411, 'f1': 94.9755082528059}\n",
      "====================================================================================================\n",
      "Epoch 48 / 50\n",
      "----------------------------------------------------------------------------------------------------\n",
      "training loss 0.0012036098632961512; training time 0.3801293651262919\n",
      "validation loss 0.2044772058725357; validation time 0.03151855866114298\n",
      "training acc {'accuracy': 100.0, 'precision': 100.0, 'recall': 100.0, 'f1': 100.0}\n",
      "validation acc {'accuracy': 88.81431767337807, 'precision': 95.47758355410014, 'recall': 94.51188359299411, 'f1': 94.9755082528059}\n",
      "====================================================================================================\n",
      "Epoch 49 / 50\n",
      "----------------------------------------------------------------------------------------------------\n",
      "training loss 0.000991740613244474; training time 0.38010272979736326\n",
      "validation loss 0.06023786589503288; validation time 0.03152840534845988\n",
      "training acc {'accuracy': 100.0, 'precision': 100.0, 'recall': 100.0, 'f1': 100.0}\n",
      "validation acc {'accuracy': 88.81431767337807, 'precision': 95.47758355410014, 'recall': 94.51188359299411, 'f1': 94.9755082528059}\n",
      "====================================================================================================\n",
      "Epoch 50 / 50\n",
      "----------------------------------------------------------------------------------------------------\n",
      "training loss 0.001121478620916605; training time 0.3801142930984497\n",
      "validation loss 0.2095726877450943; validation time 0.031517767906188966\n",
      "training acc {'accuracy': 100.0, 'precision': 100.0, 'recall': 100.0, 'f1': 100.0}\n",
      "validation acc {'accuracy': 88.81431767337807, 'precision': 95.47758355410014, 'recall': 94.51188359299411, 'f1': 94.9755082528059}\n",
      " *** training is done !! *** \n",
      "Best epoch: 10\n",
      "Best f1_score: 95.40587796812238\n",
      "          label  precision  recall  f1-score  support\n",
      "0            男性      0.949   0.931     0.940  202.000\n",
      "1            女性      0.959   0.946     0.952  221.000\n",
      "2            已婚      0.950   0.981     0.965  211.000\n",
      "3            未婚      0.966   0.952     0.959  209.000\n",
      "4     micro avg      0.956   0.953     0.954  843.000\n",
      "5     macro avg      0.956   0.952     0.954  843.000\n",
      "6  weighted avg      0.956   0.953     0.954  843.000\n",
      "7   samples avg      0.951   0.944     0.943  843.000\n",
      "             name         value\n",
      "0      param_size 409082896.000\n",
      "1       param_sum 102270724.000\n",
      "2     buffer_size      8192.000\n",
      "3      buffer_sum      1024.000\n",
      "4  total_size(MB)       390.140\n"
     ]
    },
    {
     "data": {
      "text/html": [
       "Waiting for W&B process to finish... <strong style=\"color:green\">(success).</strong>"
      ],
      "text/plain": [
       "<IPython.core.display.HTML object>"
      ]
     },
     "metadata": {},
     "output_type": "display_data"
    },
    {
     "data": {
      "application/vnd.jupyter.widget-view+json": {
       "model_id": "",
       "version_major": 2,
       "version_minor": 0
      },
      "text/plain": [
       "VBox(children=(Label(value='0.089 MB of 0.089 MB uploaded (0.000 MB deduped)\\r'), FloatProgress(value=0.998132…"
      ]
     },
     "metadata": {},
     "output_type": "display_data"
    },
    {
     "data": {
      "text/html": [
       "<style>\n",
       "    table.wandb td:nth-child(1) { padding: 0 10px; text-align: left ; width: auto;} td:nth-child(2) {text-align: left ; width: 100%}\n",
       "    .wandb-row { display: flex; flex-direction: row; flex-wrap: wrap; justify-content: flex-start; width: 100% }\n",
       "    .wandb-col { display: flex; flex-direction: column; flex-basis: 100%; flex: 1; padding: 10px; }\n",
       "    </style>\n",
       "<div class=\"wandb-row\"><div class=\"wandb-col\"><h3>Run history:</h3><br/><table class=\"wandb\"><tr><td>epoch</td><td>▁▁▁▁▂▂▂▂▂▃▃▃▃▃▃▄▄▄▄▄▅▅▅▅▅▅▆▆▆▆▆▆▇▇▇▇▇███</td></tr><tr><td>train/accuracy</td><td>▁▅▆▇████████████████████████████████████</td></tr><tr><td>train/loss</td><td>█▇▇▃▅▂▁▁▁▁▁▁▁▁▁▁▁▁▁▁▁▁▁▁▁▁▁▁▁▁▁▁▁▁▁▁▁▁▁▁</td></tr><tr><td>val/accuracy</td><td>▁▂▆▇▇█▇▇▇▇▇▇▇▇█▇▇▇▇▇▆▇▆▇▇▇▇▇▇▇▇▇▇▇▇▇▇▇▇▇</td></tr><tr><td>val/loss</td><td>▄▄▃▂▄▃▅▅▅▃▅▇▄▄▂▄▃▄█▁▃▃▁▁▇▃▅▄▄▆▅▁▅▅▄▃▅▅▄▄</td></tr></table><br/></div><div class=\"wandb-col\"><h3>Run summary:</h3><br/><table class=\"wandb\"><tr><td>epoch</td><td>50</td></tr><tr><td>train/accuracy</td><td>100.0</td></tr><tr><td>train/loss</td><td>0.00112</td></tr><tr><td>val/accuracy</td><td>94.97551</td></tr><tr><td>val/loss</td><td>0.20957</td></tr></table><br/></div></div>"
      ],
      "text/plain": [
       "<IPython.core.display.HTML object>"
      ]
     },
     "metadata": {},
     "output_type": "display_data"
    },
    {
     "data": {
      "text/html": [
       "Synced <strong style=\"color:#cdcd00\">hfl/chinese-macbert-base_2022-07-01 07:22:52.631683</strong>: <a href=\"https://wandb.ai/weber12321/audience_bert_4_class/runs/1bm2mfaj\" target=\"_blank\">https://wandb.ai/weber12321/audience_bert_4_class/runs/1bm2mfaj</a><br/>Synced 5 W&B file(s), 3 media file(s), 3 artifact file(s) and 0 other file(s)"
      ],
      "text/plain": [
       "<IPython.core.display.HTML object>"
      ]
     },
     "metadata": {},
     "output_type": "display_data"
    },
    {
     "data": {
      "text/html": [
       "Find logs at: <code>./wandb/run-20220701_072252-1bm2mfaj/logs</code>"
      ],
      "text/plain": [
       "<IPython.core.display.HTML object>"
      ]
     },
     "metadata": {},
     "output_type": "display_data"
    }
   ],
   "source": [
    "torch.cuda.empty_cache()\n",
    "\n",
    "run(\n",
    "    df_train=df_train, \n",
    "    df_test=df_test, \n",
    "    batch_size=32, \n",
    "    max_len=100, \n",
    "    ckpt=\"hfl/chinese-macbert-base\"\n",
    ")"
   ]
  },
  {
   "cell_type": "code",
   "execution_count": 29,
   "id": "f6ad3258",
   "metadata": {},
   "outputs": [
    {
     "data": {
      "text/html": [
       "Tracking run with wandb version 0.12.20"
      ],
      "text/plain": [
       "<IPython.core.display.HTML object>"
      ]
     },
     "metadata": {},
     "output_type": "display_data"
    },
    {
     "data": {
      "text/html": [
       "Run data is saved locally in <code>/home/jovyan/work/wandb/run-20220701_074557-38euc19q</code>"
      ],
      "text/plain": [
       "<IPython.core.display.HTML object>"
      ]
     },
     "metadata": {},
     "output_type": "display_data"
    },
    {
     "data": {
      "text/html": [
       "Syncing run <strong><a href=\"https://wandb.ai/weber12321/audience_bert_4_class/runs/38euc19q\" target=\"_blank\">hfl/chinese-bert-wwm-ext_2022-07-01 07:45:57.406933</a></strong> to <a href=\"https://wandb.ai/weber12321/audience_bert_4_class\" target=\"_blank\">Weights & Biases</a> (<a href=\"https://wandb.me/run\" target=\"_blank\">docs</a>)<br/>"
      ],
      "text/plain": [
       "<IPython.core.display.HTML object>"
      ]
     },
     "metadata": {},
     "output_type": "display_data"
    },
    {
     "data": {
      "application/vnd.jupyter.widget-view+json": {
       "model_id": "bf552098e40a4e3f8712772f9c1091ca",
       "version_major": 2,
       "version_minor": 0
      },
      "text/plain": [
       "Downloading:   0%|          | 0.00/19.0 [00:00<?, ?B/s]"
      ]
     },
     "metadata": {},
     "output_type": "display_data"
    },
    {
     "data": {
      "application/vnd.jupyter.widget-view+json": {
       "model_id": "641efbc39bed4faf9ef9ed42845de2ff",
       "version_major": 2,
       "version_minor": 0
      },
      "text/plain": [
       "Downloading:   0%|          | 0.00/647 [00:00<?, ?B/s]"
      ]
     },
     "metadata": {},
     "output_type": "display_data"
    },
    {
     "data": {
      "application/vnd.jupyter.widget-view+json": {
       "model_id": "6bed2a6a1cde4656a758077a3e1ef9ee",
       "version_major": 2,
       "version_minor": 0
      },
      "text/plain": [
       "Downloading:   0%|          | 0.00/107k [00:00<?, ?B/s]"
      ]
     },
     "metadata": {},
     "output_type": "display_data"
    },
    {
     "data": {
      "application/vnd.jupyter.widget-view+json": {
       "model_id": "711a51fd04164b0da2e8163777c9174b",
       "version_major": 2,
       "version_minor": 0
      },
      "text/plain": [
       "Downloading:   0%|          | 0.00/263k [00:00<?, ?B/s]"
      ]
     },
     "metadata": {},
     "output_type": "display_data"
    },
    {
     "data": {
      "application/vnd.jupyter.widget-view+json": {
       "model_id": "0da757ea87634a1da57fabb45c0dd6c5",
       "version_major": 2,
       "version_minor": 0
      },
      "text/plain": [
       "Downloading:   0%|          | 0.00/2.00 [00:00<?, ?B/s]"
      ]
     },
     "metadata": {},
     "output_type": "display_data"
    },
    {
     "data": {
      "application/vnd.jupyter.widget-view+json": {
       "model_id": "666ba8e0f240437ea7fecb378494413c",
       "version_major": 2,
       "version_minor": 0
      },
      "text/plain": [
       "Downloading:   0%|          | 0.00/112 [00:00<?, ?B/s]"
      ]
     },
     "metadata": {},
     "output_type": "display_data"
    },
    {
     "data": {
      "application/vnd.jupyter.widget-view+json": {
       "model_id": "249500e9ca174f0cbfff1c10a9011e7c",
       "version_major": 2,
       "version_minor": 0
      },
      "text/plain": [
       "Downloading:   0%|          | 0.00/393M [00:00<?, ?B/s]"
      ]
     },
     "metadata": {},
     "output_type": "display_data"
    },
    {
     "name": "stderr",
     "output_type": "stream",
     "text": [
      "Some weights of the model checkpoint at hfl/chinese-bert-wwm-ext were not used when initializing BertForSequenceClassification: ['cls.seq_relationship.weight', 'cls.predictions.transform.dense.weight', 'cls.predictions.transform.LayerNorm.weight', 'cls.seq_relationship.bias', 'cls.predictions.transform.dense.bias', 'cls.predictions.transform.LayerNorm.bias', 'cls.predictions.decoder.weight', 'cls.predictions.bias']\n",
      "- This IS expected if you are initializing BertForSequenceClassification from the checkpoint of a model trained on another task or with another architecture (e.g. initializing a BertForSequenceClassification model from a BertForPreTraining model).\n",
      "- This IS NOT expected if you are initializing BertForSequenceClassification from the checkpoint of a model that you expect to be exactly identical (initializing a BertForSequenceClassification model from a BertForSequenceClassification model).\n",
      "Some weights of BertForSequenceClassification were not initialized from the model checkpoint at hfl/chinese-bert-wwm-ext and are newly initialized: ['classifier.weight', 'classifier.bias']\n",
      "You should probably TRAIN this model on a down-stream task to be able to use it for predictions and inference.\n"
     ]
    },
    {
     "data": {
      "application/vnd.jupyter.widget-view+json": {
       "model_id": "d42418256f154208adfd4c200f7f7c52",
       "version_major": 2,
       "version_minor": 0
      },
      "text/plain": [
       "  0%|          | 0/50 [00:00<?, ?it/s]"
      ]
     },
     "metadata": {},
     "output_type": "display_data"
    },
    {
     "name": "stdout",
     "output_type": "stream",
     "text": [
      " *** Start training flow *** \n",
      "====================================================================================================\n",
      "Epoch 1 / 50\n",
      "----------------------------------------------------------------------------------------------------\n",
      "training loss 0.24103447794914246; training time 0.3552232265472412\n",
      "validation loss 0.1728965789079666; validation time 0.029775754610697428\n",
      "training acc {'accuracy': 61.55567991046447, 'precision': 81.38146289626853, 'recall': 80.93119810201661, 'f1': 81.1125215243812}\n",
      "validation acc {'accuracy': 83.44519015659955, 'precision': 91.46473875303597, 'recall': 93.80440631002666, 'f1': 92.50378436028899}\n",
      "best f1_score is updated: 92.50378436028899\n",
      "====================================================================================================\n",
      "Epoch 2 / 50\n",
      "----------------------------------------------------------------------------------------------------\n",
      "training loss 0.25974413752555847; training time 0.358618160088857\n",
      "validation loss 0.09004504978656769; validation time 0.03005201816558838\n",
      "training acc {'accuracy': 85.22663682148853, 'precision': 93.21780057411166, 'recall': 94.15776986951364, 'f1': 93.67651691501835}\n",
      "validation acc {'accuracy': 86.80089485458613, 'precision': 94.3049621717846, 'recall': 94.27417305466665, 'f1': 94.2540226853073}\n",
      "best f1_score is updated: 94.2540226853073\n",
      "====================================================================================================\n",
      "Epoch 3 / 50\n",
      "----------------------------------------------------------------------------------------------------\n",
      "training loss 0.05846569687128067; training time 0.36689572731653847\n",
      "validation loss 0.1403082013130188; validation time 0.03122978607813517\n",
      "training acc {'accuracy': 90.6547285954113, 'precision': 96.1816311393913, 'recall': 96.8564650059312, 'f1': 96.51005029943904}\n",
      "validation acc {'accuracy': 88.36689038031321, 'precision': 94.5764173766476, 'recall': 95.02641825674867, 'f1': 94.77720379586887}\n",
      "best f1_score is updated: 94.77720379586887\n",
      "====================================================================================================\n",
      "Epoch 4 / 50\n",
      "----------------------------------------------------------------------------------------------------\n",
      "training loss 0.03312347084283829; training time 0.3735557953516642\n",
      "validation loss 0.2285613864660263; validation time 0.03146057526270549\n",
      "training acc {'accuracy': 92.66927811975377, 'precision': 97.15050280670515, 'recall': 97.62752075919336, 'f1': 97.38367451797355}\n",
      "validation acc {'accuracy': 88.59060402684564, 'precision': 95.37479125228863, 'recall': 95.00474774928963, 'f1': 95.13411800094393}\n",
      "best f1_score is updated: 95.13411800094393\n",
      "====================================================================================================\n",
      "Epoch 5 / 50\n",
      "----------------------------------------------------------------------------------------------------\n",
      "training loss 0.09533655643463135; training time 0.37683323621749876\n",
      "validation loss 0.37036430835723877; validation time 0.03163391351699829\n",
      "training acc {'accuracy': 95.18746502518187, 'precision': 98.17711668852102, 'recall': 98.54685646500593, 'f1': 98.36006788288604}\n",
      "validation acc {'accuracy': 88.59060402684564, 'precision': 95.37200971390602, 'recall': 94.62086061358258, 'f1': 94.95136161356228}\n",
      "====================================================================================================\n",
      "Epoch 6 / 50\n",
      "----------------------------------------------------------------------------------------------------\n",
      "training loss 0.020537901669740677; training time 0.3798312028249105\n",
      "validation loss 0.19498248398303986; validation time 0.03147963682810465\n",
      "training acc {'accuracy': 95.747062115277, 'precision': 98.21561731120197, 'recall': 98.93238434163702, 'f1': 98.56956743456374}\n",
      "validation acc {'accuracy': 89.48545861297539, 'precision': 95.60411179995373, 'recall': 95.43106716344842, 'f1': 95.47230341857923}\n",
      "best f1_score is updated: 95.47230341857923\n",
      "====================================================================================================\n",
      "Epoch 7 / 50\n",
      "----------------------------------------------------------------------------------------------------\n",
      "training loss 0.016526665538549423; training time 0.37802651325861614\n",
      "validation loss 0.08122286200523376; validation time 0.031507412592569985\n",
      "training acc {'accuracy': 97.53777280358142, 'precision': 98.97073588272374, 'recall': 99.34756820877817, 'f1': 99.157862852031}\n",
      "validation acc {'accuracy': 89.26174496644296, 'precision': 95.51340267836441, 'recall': 95.27817043704238, 'f1': 95.36871375035325}\n",
      "====================================================================================================\n",
      "Epoch 8 / 50\n",
      "----------------------------------------------------------------------------------------------------\n",
      "training loss 0.01965099573135376; training time 0.3798737287521362\n",
      "validation loss 0.07609619200229645; validation time 0.03150109450022379\n",
      "training acc {'accuracy': 97.20201454952434, 'precision': 98.88223965364581, 'recall': 99.22894424673784, 'f1': 99.05381035036143}\n",
      "validation acc {'accuracy': 89.48545861297539, 'precision': 95.30034765544096, 'recall': 95.24738363672472, 'f1': 95.25964443521406}\n",
      "====================================================================================================\n",
      "Epoch 9 / 50\n",
      "----------------------------------------------------------------------------------------------------\n",
      "training loss 0.007866758853197098; training time 0.3799538493156433\n",
      "validation loss 0.19734160602092743; validation time 0.031490135192871097\n",
      "training acc {'accuracy': 98.7129266927812, 'precision': 99.49787059571759, 'recall': 99.644128113879, 'f1': 99.57065733423939}\n",
      "validation acc {'accuracy': 89.48545861297539, 'precision': 95.92728093782897, 'recall': 95.02746979284554, 'f1': 95.47267565276613}\n",
      "best f1_score is updated: 95.47267565276613\n",
      "====================================================================================================\n",
      "Epoch 10 / 50\n",
      "----------------------------------------------------------------------------------------------------\n",
      "training loss 0.007473384030163288; training time 0.3791118780771891\n",
      "validation loss 0.041082218289375305; validation time 0.031493858496348066\n",
      "training acc {'accuracy': 98.93676552881925, 'precision': 99.64611472462786, 'recall': 99.76275207591934, 'f1': 99.70417025895942}\n",
      "validation acc {'accuracy': 89.48545861297539, 'precision': 95.5257300705012, 'recall': 95.3687961113849, 'f1': 95.43172825806741}\n",
      "====================================================================================================\n",
      "Epoch 11 / 50\n",
      "----------------------------------------------------------------------------------------------------\n",
      "training loss 0.007287386804819107; training time 0.37991836071014407\n",
      "validation loss 0.2877981662750244; validation time 0.031590441862742104\n",
      "training acc {'accuracy': 99.21656407386682, 'precision': 99.70464681549112, 'recall': 99.85172004744959, 'f1': 99.77801615284558}\n",
      "validation acc {'accuracy': 90.38031319910515, 'precision': 96.08540953568566, 'recall': 95.47777313197336, 'f1': 95.76742358864885}\n",
      "best f1_score is updated: 95.76742358864885\n",
      "====================================================================================================\n",
      "Epoch 12 / 50\n",
      "----------------------------------------------------------------------------------------------------\n",
      "training loss 0.0063229757361114025; training time 0.37901486158370973\n",
      "validation loss 0.2688535451889038; validation time 0.03159473339716593\n",
      "training acc {'accuracy': 99.49636261891438, 'precision': 99.82259743806378, 'recall': 99.91103202846975, 'f1': 99.8667350624646}\n",
      "validation acc {'accuracy': 90.1565995525727, 'precision': 96.57831403903461, 'recall': 95.33687549850913, 'f1': 95.93067929897528}\n",
      "best f1_score is updated: 95.93067929897528\n",
      "====================================================================================================\n",
      "Epoch 13 / 50\n",
      "----------------------------------------------------------------------------------------------------\n",
      "training loss 0.006793533451855183; training time 0.379145884513855\n",
      "validation loss 0.2871688902378082; validation time 0.03162145217259725\n",
      "training acc {'accuracy': 99.77616116396194, 'precision': 99.94068801897983, 'recall': 99.94068801897983, 'f1': 99.94068801897983}\n",
      "validation acc {'accuracy': 90.1565995525727, 'precision': 96.44418597203924, 'recall': 95.4629877763242, 'f1': 95.93430066697476}\n",
      "best f1_score is updated: 95.93430066697476\n",
      "====================================================================================================\n",
      "Epoch 14 / 50\n",
      "----------------------------------------------------------------------------------------------------\n",
      "training loss 0.0049552773125469685; training time 0.37923282782236734\n",
      "validation loss 0.23479442298412323; validation time 0.03149011532465617\n",
      "training acc {'accuracy': 99.83212087297146, 'precision': 99.97037956823154, 'recall': 99.91103202846975, 'f1': 99.94067061366093}\n",
      "validation acc {'accuracy': 89.48545861297539, 'precision': 95.70383861847277, 'recall': 95.08935074603389, 'f1': 95.3558334041227}\n",
      "====================================================================================================\n",
      "Epoch 15 / 50\n",
      "----------------------------------------------------------------------------------------------------\n",
      "training loss 0.005586671642959118; training time 0.39299482901891075\n",
      "validation loss 0.027018018066883087; validation time 0.03152414957682292\n",
      "training acc {'accuracy': 99.77616116396194, 'precision': 99.94068693371952, 'recall': 99.94068801897983, 'f1': 99.94066990380571}\n",
      "validation acc {'accuracy': 89.48545861297539, 'precision': 95.99551241835516, 'recall': 94.97622857408818, 'f1': 95.45497762981954}\n",
      "====================================================================================================\n",
      "Epoch 16 / 50\n",
      "----------------------------------------------------------------------------------------------------\n",
      "training loss 0.0048128762282431126; training time 0.3800376296043396\n",
      "validation loss 0.33236709237098694; validation time 0.0315128763516744\n",
      "training acc {'accuracy': 99.83212087297146, 'precision': 99.97034400948992, 'recall': 99.94068801897983, 'f1': 99.95550733781869}\n",
      "validation acc {'accuracy': 90.38031319910515, 'precision': 95.86172872650008, 'recall': 95.60446457054888, 'f1': 95.72469372936823}\n",
      "====================================================================================================\n",
      "Epoch 17 / 50\n",
      "----------------------------------------------------------------------------------------------------\n",
      "training loss 0.002875227713957429; training time 0.37996815840403236\n",
      "validation loss 0.1936602145433426; validation time 0.03146307468414307\n",
      "training acc {'accuracy': 99.88808058198097, 'precision': 99.97034400948992, 'recall': 99.97034400948992, 'f1': 99.97034400948992}\n",
      "validation acc {'accuracy': 89.93288590604027, 'precision': 95.69890829703249, 'recall': 95.56311984240054, 'f1': 95.60005290404341}\n",
      "====================================================================================================\n",
      "Epoch 18 / 50\n",
      "----------------------------------------------------------------------------------------------------\n",
      "training loss 0.0027055477257817984; training time 0.3897351066271464\n",
      "validation loss 0.20117269456386566; validation time 0.0315056045850118\n",
      "training acc {'accuracy': 99.94404029099049, 'precision': 100.0, 'recall': 99.97034400948992, 'f1': 99.9851630775955}\n",
      "validation acc {'accuracy': 89.70917225950782, 'precision': 96.11512148329712, 'recall': 95.3327303471519, 'f1': 95.69759692591758}\n",
      "====================================================================================================\n",
      "Epoch 19 / 50\n",
      "----------------------------------------------------------------------------------------------------\n",
      "training loss 0.0035002646036446095; training time 0.3799301346143087\n",
      "validation loss 0.12945136427879333; validation time 0.031459228197733564\n",
      "training acc {'accuracy': 100.0, 'precision': 100.0, 'recall': 100.0, 'f1': 100.0}\n",
      "validation acc {'accuracy': 89.26174496644296, 'precision': 95.78616267316151, 'recall': 95.09349589739112, 'f1': 95.40685215415246}\n",
      "====================================================================================================\n",
      "Epoch 20 / 50\n",
      "----------------------------------------------------------------------------------------------------\n",
      "training loss 0.003920518793165684; training time 0.37994377613067626\n",
      "validation loss 0.36744317412376404; validation time 0.03146314223607381\n",
      "training acc {'accuracy': 99.94404029099049, 'precision': 100.0, 'recall': 99.97034400948992, 'f1': 99.9851630775955}\n",
      "validation acc {'accuracy': 89.93288590604027, 'precision': 95.90196189513753, 'recall': 95.3327303471519, 'f1': 95.59005640799839}\n",
      "====================================================================================================\n",
      "Epoch 21 / 50\n",
      "----------------------------------------------------------------------------------------------------\n",
      "training loss 0.0023206514306366444; training time 0.37992240985234577\n",
      "validation loss 0.19074620306491852; validation time 0.03159146308898926\n",
      "training acc {'accuracy': 100.0, 'precision': 100.0, 'recall': 100.0, 'f1': 100.0}\n",
      "validation acc {'accuracy': 89.93288590604027, 'precision': 96.11512148329712, 'recall': 95.3327303471519, 'f1': 95.69759692591758}\n",
      "====================================================================================================\n",
      "Epoch 22 / 50\n",
      "----------------------------------------------------------------------------------------------------\n",
      "training loss 0.0021822541020810604; training time 0.37983810106913246\n",
      "validation loss 0.09219546616077423; validation time 0.03150346676508586\n",
      "training acc {'accuracy': 99.94404029099049, 'precision': 100.0, 'recall': 99.97034400948992, 'f1': 99.98516332832878}\n",
      "validation acc {'accuracy': 89.48545861297539, 'precision': 95.8966402998043, 'recall': 95.21311312227151, 'f1': 95.52530080849226}\n",
      "====================================================================================================\n",
      "Epoch 23 / 50\n",
      "----------------------------------------------------------------------------------------------------\n",
      "training loss 0.0020786880049854517; training time 0.3798832337061564\n",
      "validation loss 0.12263604253530502; validation time 0.03147775332132975\n",
      "training acc {'accuracy': 99.94404029099049, 'precision': 100.0, 'recall': 99.97034400948992, 'f1': 99.9851630775955}\n",
      "validation acc {'accuracy': 89.48545861297539, 'precision': 95.89240415233526, 'recall': 95.0999909503258, 'f1': 95.46852383311062}\n",
      "====================================================================================================\n",
      "Epoch 24 / 50\n",
      "----------------------------------------------------------------------------------------------------\n",
      "training loss 0.0022059413604438305; training time 0.37979206641515095\n",
      "validation loss 0.1384471356868744; validation time 0.03148417870203654\n",
      "training acc {'accuracy': 100.0, 'precision': 100.0, 'recall': 100.0, 'f1': 100.0}\n",
      "validation acc {'accuracy': 89.70917225950782, 'precision': 96.00727560087023, 'recall': 95.21311312227151, 'f1': 95.58358384237415}\n",
      "====================================================================================================\n",
      "Epoch 25 / 50\n",
      "----------------------------------------------------------------------------------------------------\n",
      "training loss 0.0024632527492940426; training time 0.37983200947443646\n",
      "validation loss 0.33661478757858276; validation time 0.03142253557840983\n",
      "training acc {'accuracy': 100.0, 'precision': 100.0, 'recall': 100.0, 'f1': 100.0}\n",
      "validation acc {'accuracy': 89.48545861297539, 'precision': 95.8910854175678, 'recall': 95.0999909503258, 'f1': 95.46632535448293}\n",
      "====================================================================================================\n",
      "Epoch 26 / 50\n",
      "----------------------------------------------------------------------------------------------------\n",
      "training loss 0.0018938553985208273; training time 0.37973516384760536\n",
      "validation loss 0.3675349950790405; validation time 0.03147678772608439\n",
      "training acc {'accuracy': 100.0, 'precision': 100.0, 'recall': 100.0, 'f1': 100.0}\n",
      "validation acc {'accuracy': 89.48545861297539, 'precision': 95.8966402998043, 'recall': 95.21311312227151, 'f1': 95.52530080849226}\n",
      "====================================================================================================\n",
      "Epoch 27 / 50\n",
      "----------------------------------------------------------------------------------------------------\n",
      "training loss 0.0023271110840141773; training time 0.379680879910787\n",
      "validation loss 0.11747066676616669; validation time 0.03144807418187459\n",
      "training acc {'accuracy': 100.0, 'precision': 100.0, 'recall': 100.0, 'f1': 100.0}\n",
      "validation acc {'accuracy': 89.93288590604027, 'precision': 96.00024238794063, 'recall': 95.23439353085536, 'f1': 95.59429696116798}\n",
      "====================================================================================================\n",
      "Epoch 28 / 50\n",
      "----------------------------------------------------------------------------------------------------\n",
      "training loss 0.0025621133390814066; training time 0.3796311895052592\n",
      "validation loss 0.08278744667768478; validation time 0.03142232100168864\n",
      "training acc {'accuracy': 99.94404029099049, 'precision': 100.0, 'recall': 99.97034400948992, 'f1': 99.9851630775955}\n",
      "validation acc {'accuracy': 89.70917225950782, 'precision': 96.01322798182261, 'recall': 95.32623529421721, 'f1': 95.64228289008916}\n",
      "====================================================================================================\n",
      "Epoch 29 / 50\n",
      "----------------------------------------------------------------------------------------------------\n",
      "training loss 0.002129710977897048; training time 0.38964496850967406\n",
      "validation loss 0.08703115582466125; validation time 0.03142736752827962\n",
      "training acc {'accuracy': 100.0, 'precision': 100.0, 'recall': 100.0, 'f1': 100.0}\n",
      "validation acc {'accuracy': 89.48545861297539, 'precision': 95.7784728049552, 'recall': 94.98686877838011, 'f1': 95.35345853732717}\n",
      "====================================================================================================\n",
      "Epoch 30 / 50\n",
      "----------------------------------------------------------------------------------------------------\n",
      "training loss 0.001857887371443212; training time 0.3797408143679301\n",
      "validation loss 0.28043293952941895; validation time 0.03152530590693156\n",
      "training acc {'accuracy': 100.0, 'precision': 100.0, 'recall': 100.0, 'f1': 100.0}\n",
      "validation acc {'accuracy': 89.48545861297539, 'precision': 95.7784728049552, 'recall': 94.98686877838011, 'f1': 95.35345853732717}\n",
      "====================================================================================================\n",
      "Epoch 31 / 50\n",
      "----------------------------------------------------------------------------------------------------\n",
      "training loss 0.0019659872632473707; training time 0.37965723673502605\n",
      "validation loss 0.2062956839799881; validation time 0.031446627775828045\n",
      "training acc {'accuracy': 100.0, 'precision': 100.0, 'recall': 100.0, 'f1': 100.0}\n",
      "validation acc {'accuracy': 89.70917225950782, 'precision': 96.2159794418884, 'recall': 94.98686877838011, 'f1': 95.57837392110271}\n",
      "====================================================================================================\n",
      "Epoch 32 / 50\n",
      "----------------------------------------------------------------------------------------------------\n",
      "training loss 0.001651888363994658; training time 0.379707666238149\n",
      "validation loss 0.05941321700811386; validation time 0.03147526582082113\n",
      "training acc {'accuracy': 100.0, 'precision': 100.0, 'recall': 100.0, 'f1': 100.0}\n",
      "validation acc {'accuracy': 89.48545861297539, 'precision': 95.88634428080455, 'recall': 94.98686877838011, 'f1': 95.40929417455817}\n",
      "====================================================================================================\n",
      "Epoch 33 / 50\n",
      "----------------------------------------------------------------------------------------------------\n",
      "training loss 0.0023045206908136606; training time 0.37969270944595335\n",
      "validation loss 0.2553236782550812; validation time 0.03145090341567993\n",
      "training acc {'accuracy': 100.0, 'precision': 100.0, 'recall': 100.0, 'f1': 100.0}\n",
      "validation acc {'accuracy': 89.48545861297539, 'precision': 95.7784728049552, 'recall': 94.98686877838011, 'f1': 95.35345853732717}\n",
      "====================================================================================================\n",
      "Epoch 34 / 50\n",
      "----------------------------------------------------------------------------------------------------\n",
      "training loss 0.0016132851596921682; training time 0.37980634371439614\n",
      "validation loss 0.2949604094028473; validation time 0.031498245398203534\n",
      "training acc {'accuracy': 100.0, 'precision': 100.0, 'recall': 100.0, 'f1': 100.0}\n",
      "validation acc {'accuracy': 89.70917225950782, 'precision': 95.78188140006863, 'recall': 95.11063115461774, 'f1': 95.42030086692768}\n",
      "====================================================================================================\n",
      "Epoch 35 / 50\n",
      "----------------------------------------------------------------------------------------------------\n",
      "training loss 0.0016982917441055179; training time 0.3796449383099874\n",
      "validation loss 0.08395638316869736; validation time 0.03147786060969035\n",
      "training acc {'accuracy': 100.0, 'precision': 100.0, 'recall': 100.0, 'f1': 100.0}\n",
      "validation acc {'accuracy': 89.70917225950782, 'precision': 95.78188140006863, 'recall': 95.11063115461774, 'f1': 95.42030086692768}\n",
      "====================================================================================================\n",
      "Epoch 36 / 50\n",
      "----------------------------------------------------------------------------------------------------\n",
      "training loss 0.001355443848297; training time 0.38887762228647865\n",
      "validation loss 0.3651936650276184; validation time 0.031499731540679934\n",
      "training acc {'accuracy': 100.0, 'precision': 100.0, 'recall': 100.0, 'f1': 100.0}\n",
      "validation acc {'accuracy': 89.70917225950782, 'precision': 95.78188140006863, 'recall': 95.11063115461774, 'f1': 95.42030086692768}\n",
      "====================================================================================================\n",
      "Epoch 37 / 50\n",
      "----------------------------------------------------------------------------------------------------\n",
      "training loss 0.00268147443421185; training time 0.37962456146876017\n",
      "validation loss 0.09489303827285767; validation time 0.03143083651860555\n",
      "training acc {'accuracy': 100.0, 'precision': 100.0, 'recall': 100.0, 'f1': 100.0}\n",
      "validation acc {'accuracy': 89.48545861297539, 'precision': 95.7784728049552, 'recall': 94.98686877838011, 'f1': 95.35345853732717}\n",
      "====================================================================================================\n",
      "Epoch 38 / 50\n",
      "----------------------------------------------------------------------------------------------------\n",
      "training loss 0.002590868854895234; training time 0.37982344230016074\n",
      "validation loss 0.20570668578147888; validation time 0.03147762219111125\n",
      "training acc {'accuracy': 99.83212087297146, 'precision': 99.91110314595299, 'recall': 99.94068801897983, 'f1': 99.92588670877925}\n",
      "validation acc {'accuracy': 89.26174496644296, 'precision': 95.71772700726312, 'recall': 94.83231960182482, 'f1': 95.22390753206918}\n",
      "====================================================================================================\n",
      "Epoch 39 / 50\n",
      "----------------------------------------------------------------------------------------------------\n",
      "training loss 0.001654319348745048; training time 0.3796101013819377\n",
      "validation loss 0.056403353810310364; validation time 0.031419400374094644\n",
      "training acc {'accuracy': 99.83212087297146, 'precision': 99.94072274496403, 'recall': 99.94068801897983, 'f1': 99.94068779985885}\n",
      "validation acc {'accuracy': 89.70917225950782, 'precision': 96.10699626441622, 'recall': 94.88626433696736, 'f1': 95.45480670930618}\n",
      "====================================================================================================\n",
      "Epoch 40 / 50\n",
      "----------------------------------------------------------------------------------------------------\n",
      "training loss 0.002001225482672453; training time 0.3796756029129028\n",
      "validation loss 0.12790846824645996; validation time 0.03147424062093099\n",
      "training acc {'accuracy': 99.88808058198097, 'precision': 99.97037865433866, 'recall': 99.97034400948992, 'f1': 99.97034374861471}\n",
      "validation acc {'accuracy': 90.38031319910515, 'precision': 95.97597854786585, 'recall': 95.71043025233821, 'f1': 95.83800847100454}\n",
      "====================================================================================================\n",
      "Epoch 41 / 50\n",
      "----------------------------------------------------------------------------------------------------\n",
      "training loss 0.0016476609744131565; training time 0.3796872099240621\n",
      "validation loss 0.29888904094696045; validation time 0.031506649653116864\n",
      "training acc {'accuracy': 100.0, 'precision': 100.0, 'recall': 100.0, 'f1': 100.0}\n",
      "validation acc {'accuracy': 90.38031319910515, 'precision': 95.97971324306276, 'recall': 95.58553406354248, 'f1': 95.77255321290322}\n",
      "====================================================================================================\n",
      "Epoch 42 / 50\n",
      "----------------------------------------------------------------------------------------------------\n",
      "training loss 0.001323132892139256; training time 0.37980714241663616\n",
      "validation loss 0.34089982509613037; validation time 0.03143750826517741\n",
      "training acc {'accuracy': 100.0, 'precision': 100.0, 'recall': 100.0, 'f1': 100.0}\n",
      "validation acc {'accuracy': 90.38031319910515, 'precision': 95.87394380026525, 'recall': 95.58025509962714, 'f1': 95.71326184077006}\n",
      "====================================================================================================\n",
      "Epoch 43 / 50\n",
      "----------------------------------------------------------------------------------------------------\n",
      "training loss 0.0014407207490876317; training time 0.3796353578567505\n",
      "validation loss 0.2972915768623352; validation time 0.0413747231165568\n",
      "training acc {'accuracy': 100.0, 'precision': 100.0, 'recall': 100.0, 'f1': 100.0}\n",
      "validation acc {'accuracy': 90.38031319910515, 'precision': 95.87394380026525, 'recall': 95.58025509962714, 'f1': 95.71326184077006}\n",
      "====================================================================================================\n",
      "Epoch 44 / 50\n",
      "----------------------------------------------------------------------------------------------------\n",
      "training loss 0.0016658974345773458; training time 0.3796587069829305\n",
      "validation loss 0.1955142766237259; validation time 0.03139121135075887\n",
      "training acc {'accuracy': 100.0, 'precision': 100.0, 'recall': 100.0, 'f1': 100.0}\n",
      "validation acc {'accuracy': 90.1565995525727, 'precision': 95.76784194248178, 'recall': 95.58025509962714, 'f1': 95.6596126859973}\n",
      "====================================================================================================\n",
      "Epoch 45 / 50\n",
      "----------------------------------------------------------------------------------------------------\n",
      "training loss 0.001561161014251411; training time 0.3798733115196228\n",
      "validation loss 0.28239521384239197; validation time 0.03150656620661418\n",
      "training acc {'accuracy': 100.0, 'precision': 100.0, 'recall': 100.0, 'f1': 100.0}\n",
      "validation acc {'accuracy': 90.1565995525727, 'precision': 95.77721051509405, 'recall': 95.46713292768145, 'f1': 95.60434455012768}\n",
      "====================================================================================================\n",
      "Epoch 46 / 50\n",
      "----------------------------------------------------------------------------------------------------\n",
      "training loss 0.0020702541805803776; training time 0.37973547776540123\n",
      "validation loss 0.25015148520469666; validation time 0.031512363751729326\n",
      "training acc {'accuracy': 100.0, 'precision': 100.0, 'recall': 100.0, 'f1': 100.0}\n",
      "validation acc {'accuracy': 90.1565995525727, 'precision': 95.77721051509405, 'recall': 95.46713292768145, 'f1': 95.60434455012768}\n",
      "====================================================================================================\n",
      "Epoch 47 / 50\n",
      "----------------------------------------------------------------------------------------------------\n",
      "training loss 0.0017979555996134877; training time 0.37969621022542316\n",
      "validation loss 0.11338817328214645; validation time 0.03147192796071371\n",
      "training acc {'accuracy': 100.0, 'precision': 100.0, 'recall': 100.0, 'f1': 100.0}\n",
      "validation acc {'accuracy': 90.1565995525727, 'precision': 95.77721051509405, 'recall': 95.46713292768145, 'f1': 95.60434455012768}\n",
      "====================================================================================================\n",
      "Epoch 48 / 50\n",
      "----------------------------------------------------------------------------------------------------\n",
      "training loss 0.0017355295130982995; training time 0.379662013053894\n",
      "validation loss 0.21648557484149933; validation time 0.03144908348719279\n",
      "training acc {'accuracy': 100.0, 'precision': 100.0, 'recall': 100.0, 'f1': 100.0}\n",
      "validation acc {'accuracy': 90.1565995525727, 'precision': 95.77320431884387, 'recall': 95.34337055144381, 'f1': 95.53785688870332}\n",
      "====================================================================================================\n",
      "Epoch 49 / 50\n",
      "----------------------------------------------------------------------------------------------------\n",
      "training loss 0.0011453769402578473; training time 0.37968155145645144\n",
      "validation loss 0.0889969989657402; validation time 0.03139589230219523\n",
      "training acc {'accuracy': 100.0, 'precision': 100.0, 'recall': 100.0, 'f1': 100.0}\n",
      "validation acc {'accuracy': 90.1565995525727, 'precision': 95.77320431884387, 'recall': 95.34337055144381, 'f1': 95.53785688870332}\n",
      "====================================================================================================\n",
      "Epoch 50 / 50\n",
      "----------------------------------------------------------------------------------------------------\n",
      "training loss 0.0014670969685539603; training time 0.37955323457717893\n",
      "validation loss 0.19146806001663208; validation time 0.03152291377385457\n",
      "training acc {'accuracy': 100.0, 'precision': 100.0, 'recall': 100.0, 'f1': 100.0}\n",
      "validation acc {'accuracy': 90.1565995525727, 'precision': 95.77320431884387, 'recall': 95.34337055144381, 'f1': 95.53785688870332}\n",
      " *** training is done !! *** \n",
      "Best epoch: 13\n",
      "Best f1_score: 95.93430066697476\n",
      "          label  precision  recall  f1-score  support\n",
      "0            男性      0.974   0.926     0.949  202.000\n",
      "1            女性      0.959   0.955     0.957  221.000\n",
      "2            已婚      0.954   0.976     0.965  211.000\n",
      "3            未婚      0.971   0.962     0.966  209.000\n",
      "4     micro avg      0.964   0.955     0.959  843.000\n",
      "5     macro avg      0.964   0.955     0.959  843.000\n",
      "6  weighted avg      0.964   0.955     0.959  843.000\n",
      "7   samples avg      0.954   0.950     0.948  843.000\n",
      "             name         value\n",
      "0      param_size 409082896.000\n",
      "1       param_sum 102270724.000\n",
      "2     buffer_size      8192.000\n",
      "3      buffer_sum      1024.000\n",
      "4  total_size(MB)       390.140\n"
     ]
    },
    {
     "data": {
      "text/html": [
       "Waiting for W&B process to finish... <strong style=\"color:green\">(success).</strong>"
      ],
      "text/plain": [
       "<IPython.core.display.HTML object>"
      ]
     },
     "metadata": {},
     "output_type": "display_data"
    },
    {
     "data": {
      "application/vnd.jupyter.widget-view+json": {
       "model_id": "",
       "version_major": 2,
       "version_minor": 0
      },
      "text/plain": [
       "VBox(children=(Label(value='0.090 MB of 0.090 MB uploaded (0.000 MB deduped)\\r'), FloatProgress(value=0.998150…"
      ]
     },
     "metadata": {},
     "output_type": "display_data"
    },
    {
     "data": {
      "text/html": [
       "<style>\n",
       "    table.wandb td:nth-child(1) { padding: 0 10px; text-align: left ; width: auto;} td:nth-child(2) {text-align: left ; width: 100%}\n",
       "    .wandb-row { display: flex; flex-direction: row; flex-wrap: wrap; justify-content: flex-start; width: 100% }\n",
       "    .wandb-col { display: flex; flex-direction: column; flex-basis: 100%; flex: 1; padding: 10px; }\n",
       "    </style>\n",
       "<div class=\"wandb-row\"><div class=\"wandb-col\"><h3>Run history:</h3><br/><table class=\"wandb\"><tr><td>epoch</td><td>▁▁▁▁▂▂▂▂▂▃▃▃▃▃▃▄▄▄▄▄▅▅▅▅▅▅▆▆▆▆▆▆▇▇▇▇▇███</td></tr><tr><td>train/accuracy</td><td>▁▆▇▇▇███████████████████████████████████</td></tr><tr><td>train/loss</td><td>▇█▃▂▂▁▁▁▁▁▁▁▁▁▁▁▁▁▁▁▁▁▁▁▁▁▁▁▁▁▁▁▁▁▁▁▁▁▁▁</td></tr><tr><td>val/accuracy</td><td>▁▅▆▆▇▇▇▇███▇█▇█▇█▇▇▇▇▇▇▇▇▇▇▇▇▇▇▇███▇▇▇▇▇</td></tr><tr><td>val/loss</td><td>▄▂▃▅▄▂▁▄▆▆▆▅▇▄▄▃▄▂▂▃█▂▂▂▄▁▅▆█▂▄▁▆▇▆▄▅▂▅▄</td></tr></table><br/></div><div class=\"wandb-col\"><h3>Run summary:</h3><br/><table class=\"wandb\"><tr><td>epoch</td><td>50</td></tr><tr><td>train/accuracy</td><td>100.0</td></tr><tr><td>train/loss</td><td>0.00147</td></tr><tr><td>val/accuracy</td><td>95.53786</td></tr><tr><td>val/loss</td><td>0.19147</td></tr></table><br/></div></div>"
      ],
      "text/plain": [
       "<IPython.core.display.HTML object>"
      ]
     },
     "metadata": {},
     "output_type": "display_data"
    },
    {
     "data": {
      "text/html": [
       "Synced <strong style=\"color:#cdcd00\">hfl/chinese-bert-wwm-ext_2022-07-01 07:45:57.406933</strong>: <a href=\"https://wandb.ai/weber12321/audience_bert_4_class/runs/38euc19q\" target=\"_blank\">https://wandb.ai/weber12321/audience_bert_4_class/runs/38euc19q</a><br/>Synced 5 W&B file(s), 3 media file(s), 3 artifact file(s) and 0 other file(s)"
      ],
      "text/plain": [
       "<IPython.core.display.HTML object>"
      ]
     },
     "metadata": {},
     "output_type": "display_data"
    },
    {
     "data": {
      "text/html": [
       "Find logs at: <code>./wandb/run-20220701_074557-38euc19q/logs</code>"
      ],
      "text/plain": [
       "<IPython.core.display.HTML object>"
      ]
     },
     "metadata": {},
     "output_type": "display_data"
    }
   ],
   "source": [
    "torch.cuda.empty_cache()\n",
    "\n",
    "run(\n",
    "    df_train=df_train, \n",
    "    df_test=df_test, \n",
    "    batch_size=32, \n",
    "    max_len=100, \n",
    "    ckpt=\"hfl/chinese-bert-wwm-ext\"\n",
    ")"
   ]
  },
  {
   "cell_type": "code",
   "execution_count": 30,
   "id": "c3dc2e28",
   "metadata": {},
   "outputs": [
    {
     "data": {
      "text/html": [
       "Tracking run with wandb version 0.12.20"
      ],
      "text/plain": [
       "<IPython.core.display.HTML object>"
      ]
     },
     "metadata": {},
     "output_type": "display_data"
    },
    {
     "data": {
      "text/html": [
       "Run data is saved locally in <code>/home/jovyan/work/wandb/run-20220701_095754-2uv7pwrq</code>"
      ],
      "text/plain": [
       "<IPython.core.display.HTML object>"
      ]
     },
     "metadata": {},
     "output_type": "display_data"
    },
    {
     "data": {
      "text/html": [
       "Syncing run <strong><a href=\"https://wandb.ai/weber12321/audience_bert_4_class/runs/2uv7pwrq\" target=\"_blank\">bert-base-chinese_2022-07-01 09:57:54.654996</a></strong> to <a href=\"https://wandb.ai/weber12321/audience_bert_4_class\" target=\"_blank\">Weights & Biases</a> (<a href=\"https://wandb.me/run\" target=\"_blank\">docs</a>)<br/>"
      ],
      "text/plain": [
       "<IPython.core.display.HTML object>"
      ]
     },
     "metadata": {},
     "output_type": "display_data"
    },
    {
     "data": {
      "application/vnd.jupyter.widget-view+json": {
       "model_id": "05d9b341a58d460e8fff3f720131cd75",
       "version_major": 2,
       "version_minor": 0
      },
      "text/plain": [
       "Downloading:   0%|          | 0.00/29.0 [00:00<?, ?B/s]"
      ]
     },
     "metadata": {},
     "output_type": "display_data"
    },
    {
     "data": {
      "application/vnd.jupyter.widget-view+json": {
       "model_id": "d6d86cc90f504bc5ae484981fae990a6",
       "version_major": 2,
       "version_minor": 0
      },
      "text/plain": [
       "Downloading:   0%|          | 0.00/624 [00:00<?, ?B/s]"
      ]
     },
     "metadata": {},
     "output_type": "display_data"
    },
    {
     "data": {
      "application/vnd.jupyter.widget-view+json": {
       "model_id": "25ad242c5f5b44e991c5711d883a8435",
       "version_major": 2,
       "version_minor": 0
      },
      "text/plain": [
       "Downloading:   0%|          | 0.00/107k [00:00<?, ?B/s]"
      ]
     },
     "metadata": {},
     "output_type": "display_data"
    },
    {
     "data": {
      "application/vnd.jupyter.widget-view+json": {
       "model_id": "50aaf5bc46954b9095095796f9a2d42e",
       "version_major": 2,
       "version_minor": 0
      },
      "text/plain": [
       "Downloading:   0%|          | 0.00/263k [00:00<?, ?B/s]"
      ]
     },
     "metadata": {},
     "output_type": "display_data"
    },
    {
     "data": {
      "application/vnd.jupyter.widget-view+json": {
       "model_id": "81df2ae38778433882448d6d6132ccd3",
       "version_major": 2,
       "version_minor": 0
      },
      "text/plain": [
       "Downloading:   0%|          | 0.00/393M [00:00<?, ?B/s]"
      ]
     },
     "metadata": {},
     "output_type": "display_data"
    },
    {
     "name": "stderr",
     "output_type": "stream",
     "text": [
      "Some weights of the model checkpoint at bert-base-chinese were not used when initializing BertForSequenceClassification: ['cls.seq_relationship.weight', 'cls.predictions.transform.dense.weight', 'cls.predictions.transform.LayerNorm.weight', 'cls.seq_relationship.bias', 'cls.predictions.transform.dense.bias', 'cls.predictions.transform.LayerNorm.bias', 'cls.predictions.decoder.weight', 'cls.predictions.bias']\n",
      "- This IS expected if you are initializing BertForSequenceClassification from the checkpoint of a model trained on another task or with another architecture (e.g. initializing a BertForSequenceClassification model from a BertForPreTraining model).\n",
      "- This IS NOT expected if you are initializing BertForSequenceClassification from the checkpoint of a model that you expect to be exactly identical (initializing a BertForSequenceClassification model from a BertForSequenceClassification model).\n",
      "Some weights of BertForSequenceClassification were not initialized from the model checkpoint at bert-base-chinese and are newly initialized: ['classifier.weight', 'classifier.bias']\n",
      "You should probably TRAIN this model on a down-stream task to be able to use it for predictions and inference.\n"
     ]
    },
    {
     "data": {
      "application/vnd.jupyter.widget-view+json": {
       "model_id": "4b0175e8660d4c0f9e3b04ba2b348085",
       "version_major": 2,
       "version_minor": 0
      },
      "text/plain": [
       "  0%|          | 0/50 [00:00<?, ?it/s]"
      ]
     },
     "metadata": {},
     "output_type": "display_data"
    },
    {
     "name": "stdout",
     "output_type": "stream",
     "text": [
      " *** Start training flow *** \n",
      "====================================================================================================\n",
      "Epoch 1 / 50\n",
      "----------------------------------------------------------------------------------------------------\n",
      "training loss 0.19530321657657623; training time 0.35036675532658895\n",
      "validation loss 0.3122142553329468; validation time 0.02926221291224162\n",
      "training acc {'accuracy': 60.15668718522663, 'precision': 81.49640589415483, 'recall': 81.31672597864768, 'f1': 80.89374613833027}\n",
      "validation acc {'accuracy': 80.53691275167785, 'precision': 91.27988126238525, 'recall': 91.85264518896491, 'f1': 91.51141599679725}\n",
      "best f1_score is updated: 91.51141599679725\n",
      "====================================================================================================\n",
      "Epoch 2 / 50\n",
      "----------------------------------------------------------------------------------------------------\n",
      "training loss 0.09669455885887146; training time 0.3532953222592672\n",
      "validation loss 0.08566690236330032; validation time 0.029499534765879312\n",
      "training acc {'accuracy': 83.65976496922217, 'precision': 92.70016106684336, 'recall': 93.03084223013049, 'f1': 92.84729856378705}\n",
      "validation acc {'accuracy': 83.89261744966443, 'precision': 93.63675022230036, 'recall': 92.72824091511748, 'f1': 93.08704128447236}\n",
      "best f1_score is updated: 93.08704128447236\n",
      "====================================================================================================\n",
      "Epoch 3 / 50\n",
      "----------------------------------------------------------------------------------------------------\n",
      "training loss 0.14463338255882263; training time 0.3557575901349386\n",
      "validation loss 0.15872527658939362; validation time 0.029798054695129396\n",
      "training acc {'accuracy': 88.80805819809737, 'precision': 95.42643656117798, 'recall': 95.16607354685647, 'f1': 95.28669210909858}\n",
      "validation acc {'accuracy': 88.36689038031321, 'precision': 94.65450923827186, 'recall': 94.36343984035926, 'f1': 94.47217973765541}\n",
      "best f1_score is updated: 94.47217973765541\n",
      "====================================================================================================\n",
      "Epoch 4 / 50\n",
      "----------------------------------------------------------------------------------------------------\n",
      "training loss 0.2809009552001953; training time 0.35766668717066447\n",
      "validation loss 0.20024868845939636; validation time 0.02992008129755656\n",
      "training acc {'accuracy': 90.82260772243984, 'precision': 96.24924622309057, 'recall': 96.88612099644128, 'f1': 96.56052572547237}\n",
      "validation acc {'accuracy': 87.24832214765101, 'precision': 95.29114935700343, 'recall': 94.10112926237392, 'f1': 94.59821155383213}\n",
      "best f1_score is updated: 94.59821155383213\n",
      "====================================================================================================\n",
      "Epoch 5 / 50\n",
      "----------------------------------------------------------------------------------------------------\n",
      "training loss 0.06438123434782028; training time 0.35854626893997193\n",
      "validation loss 0.1475072056055069; validation time 0.029931660493214926\n",
      "training acc {'accuracy': 93.6205931729155, 'precision': 97.46850769261907, 'recall': 97.83511269276394, 'f1': 97.64960473774394}\n",
      "validation acc {'accuracy': 89.03803131991052, 'precision': 95.70627093403829, 'recall': 94.63735894255032, 'f1': 95.15829326002347}\n",
      "best f1_score is updated: 95.15829326002347\n",
      "====================================================================================================\n",
      "Epoch 6 / 50\n",
      "----------------------------------------------------------------------------------------------------\n",
      "training loss 0.018040234223008156; training time 0.3594445069630941\n",
      "validation loss 0.06646893173456192; validation time 0.030328532059987385\n",
      "training acc {'accuracy': 95.01958589815332, 'precision': 98.34714367794147, 'recall': 98.45788849347569, 'f1': 98.4013466925107}\n",
      "validation acc {'accuracy': 88.36689038031321, 'precision': 95.55138461744626, 'recall': 94.46470571899373, 'f1': 94.98803025565896}\n",
      "====================================================================================================\n",
      "Epoch 7 / 50\n",
      "----------------------------------------------------------------------------------------------------\n",
      "training loss 0.007639640010893345; training time 0.3641233523686727\n",
      "validation loss 0.21716131269931793; validation time 0.030534501870473227\n",
      "training acc {'accuracy': 96.86625629546727, 'precision': 98.82919223861101, 'recall': 99.37722419928826, 'f1': 99.10038614854109}\n",
      "validation acc {'accuracy': 89.48545861297539, 'precision': 95.9537271787124, 'recall': 95.11535546673544, 'f1': 95.51842705796443}\n",
      "best f1_score is updated: 95.51842705796443\n",
      "====================================================================================================\n",
      "Epoch 8 / 50\n",
      "----------------------------------------------------------------------------------------------------\n",
      "training loss 0.03613624721765518; training time 0.3637596805890401\n",
      "validation loss 0.36213263869285583; validation time 0.030623785654703774\n",
      "training acc {'accuracy': 97.8735310576385, 'precision': 99.17746801921717, 'recall': 99.61447212336893, 'f1': 99.39462536719093}\n",
      "validation acc {'accuracy': 89.93288590604027, 'precision': 95.61663091551466, 'recall': 95.47412486491537, 'f1': 95.54005831265987}\n",
      "best f1_score is updated: 95.54005831265987\n",
      "====================================================================================================\n",
      "Epoch 9 / 50\n",
      "----------------------------------------------------------------------------------------------------\n",
      "training loss 0.007968408055603504; training time 0.36487842400868736\n",
      "validation loss 0.30007633566856384; validation time 0.030939777692159016\n",
      "training acc {'accuracy': 98.65696698377168, 'precision': 99.47116502430201, 'recall': 99.76275207591934, 'f1': 99.6160341749751}\n",
      "validation acc {'accuracy': 89.93288590604027, 'precision': 95.82224544374478, 'recall': 95.5147258793808, 'f1': 95.6635021210613}\n",
      "best f1_score is updated: 95.6635021210613\n",
      "====================================================================================================\n",
      "Epoch 10 / 50\n",
      "----------------------------------------------------------------------------------------------------\n",
      "training loss 0.007956217043101788; training time 0.36542826890945435\n",
      "validation loss 0.02112380601465702; validation time 0.030718866984049478\n",
      "training acc {'accuracy': 98.93676552881925, 'precision': 99.52906781434208, 'recall': 99.88137603795967, 'f1': 99.7045393146499}\n",
      "validation acc {'accuracy': 89.26174496644296, 'precision': 95.8264388811388, 'recall': 95.00986216028252, 'f1': 95.40916744909106}\n",
      "====================================================================================================\n",
      "Epoch 11 / 50\n",
      "----------------------------------------------------------------------------------------------------\n",
      "training loss 0.020708488300442696; training time 0.3694380005200704\n",
      "validation loss 0.1324017494916916; validation time 0.030737570921579995\n",
      "training acc {'accuracy': 98.82484611080022, 'precision': 99.5868330017814, 'recall': 99.79240806642942, 'f1': 99.68934871394953}\n",
      "validation acc {'accuracy': 89.48545861297539, 'precision': 95.71318238011013, 'recall': 95.13174701027913, 'f1': 95.42032294484608}\n",
      "====================================================================================================\n",
      "Epoch 12 / 50\n",
      "----------------------------------------------------------------------------------------------------\n",
      "training loss 0.008301720954477787; training time 0.3700678706169128\n",
      "validation loss 0.26079341769218445; validation time 0.030931639671325683\n",
      "training acc {'accuracy': 99.38444320089536, 'precision': 99.79364964497948, 'recall': 99.88137603795967, 'f1': 99.83727495482367}\n",
      "validation acc {'accuracy': 89.26174496644296, 'precision': 96.0891636074674, 'recall': 95.48907477348698, 'f1': 95.77394235388847}\n",
      "best f1_score is updated: 95.77394235388847\n",
      "====================================================================================================\n",
      "Epoch 13 / 50\n",
      "----------------------------------------------------------------------------------------------------\n",
      "training loss 0.005020394455641508; training time 0.36851805448532104\n",
      "validation loss 0.04828791692852974; validation time 0.030867103735605875\n",
      "training acc {'accuracy': 99.66424174594292, 'precision': 99.91103202846975, 'recall': 99.91103202846975, 'f1': 99.91103202846975}\n",
      "validation acc {'accuracy': 89.48545861297539, 'precision': 95.93381388694328, 'recall': 95.26614959080867, 'f1': 95.59643273644409}\n",
      "====================================================================================================\n",
      "Epoch 14 / 50\n",
      "----------------------------------------------------------------------------------------------------\n",
      "training loss 0.0038471289444714785; training time 0.37127270301183063\n",
      "validation loss 0.12277714908123016; validation time 0.031193308035532632\n",
      "training acc {'accuracy': 99.72020145495244, 'precision': 99.91113970820228, 'recall': 99.94068801897983, 'f1': 99.9258696386956}\n",
      "validation acc {'accuracy': 89.03803131991052, 'precision': 96.04845622500508, 'recall': 95.0152234006591, 'f1': 95.52134946605794}\n",
      "====================================================================================================\n",
      "Epoch 15 / 50\n",
      "----------------------------------------------------------------------------------------------------\n",
      "training loss 0.004509307909756899; training time 0.3812762419382731\n",
      "validation loss 0.18550078570842743; validation time 0.03130876223246257\n",
      "training acc {'accuracy': 99.83212087297146, 'precision': 99.97030827938087, 'recall': 99.94068801897983, 'f1': 99.95548923278649}\n",
      "validation acc {'accuracy': 90.1565995525727, 'precision': 95.72235120893733, 'recall': 95.50839537936857, 'f1': 95.61359173415566}\n",
      "====================================================================================================\n",
      "Epoch 16 / 50\n",
      "----------------------------------------------------------------------------------------------------\n",
      "training loss 0.005129027180373669; training time 0.37260570923487346\n",
      "validation loss 0.18617869913578033; validation time 0.03099812666575114\n",
      "training acc {'accuracy': 99.77616116396194, 'precision': 99.97030928350571, 'recall': 99.91103202846975, 'f1': 99.94065306258182}\n",
      "validation acc {'accuracy': 89.26174496644296, 'precision': 95.83637826156497, 'recall': 95.13370681298137, 'f1': 95.47333434786015}\n",
      "====================================================================================================\n",
      "Epoch 17 / 50\n",
      "----------------------------------------------------------------------------------------------------\n",
      "training loss 0.015461204573512077; training time 0.3729039629300435\n",
      "validation loss 0.13080106675624847; validation time 0.031373560428619385\n",
      "training acc {'accuracy': 99.88808058198097, 'precision': 99.97034400948992, 'recall': 99.97034400948992, 'f1': 99.97034400948992}\n",
      "validation acc {'accuracy': 89.26174496644296, 'precision': 95.48917456742954, 'recall': 95.13824206321381, 'f1': 95.31212000534615}\n",
      "====================================================================================================\n",
      "Epoch 18 / 50\n",
      "----------------------------------------------------------------------------------------------------\n",
      "training loss 0.004460007883608341; training time 0.3820234417915344\n",
      "validation loss 0.0643208846449852; validation time 0.031073375542958578\n",
      "training acc {'accuracy': 99.94404029099049, 'precision': 100.0, 'recall': 99.97034400948992, 'f1': 99.98516332832878}\n",
      "validation acc {'accuracy': 88.59060402684564, 'precision': 95.70204058050605, 'recall': 94.77712276345643, 'f1': 95.2305103836408}\n",
      "====================================================================================================\n",
      "Epoch 19 / 50\n",
      "----------------------------------------------------------------------------------------------------\n",
      "training loss 0.004270076751708984; training time 0.3747256676355998\n",
      "validation loss 0.08448640257120132; validation time 0.03130409717559814\n",
      "training acc {'accuracy': 99.94404029099049, 'precision': 100.0, 'recall': 99.97034400948992, 'f1': 99.9851630775955}\n",
      "validation acc {'accuracy': 89.48545861297539, 'precision': 95.83409645612231, 'recall': 95.25559166297796, 'f1': 95.54001149877365}\n",
      "====================================================================================================\n",
      "Epoch 20 / 50\n",
      "----------------------------------------------------------------------------------------------------\n",
      "training loss 0.004295818042010069; training time 0.37431337833404543\n",
      "validation loss 0.39129015803337097; validation time 0.031181220213572183\n",
      "training acc {'accuracy': 100.0, 'precision': 100.0, 'recall': 100.0, 'f1': 100.0}\n",
      "validation acc {'accuracy': 89.03803131991052, 'precision': 95.71802523523752, 'recall': 95.13597443809758, 'f1': 95.42083912269834}\n",
      "====================================================================================================\n",
      "Epoch 21 / 50\n",
      "----------------------------------------------------------------------------------------------------\n",
      "training loss 0.0036999706644564867; training time 0.3754932721455892\n",
      "validation loss 0.21164996922016144; validation time 0.031119656562805176\n",
      "training acc {'accuracy': 100.0, 'precision': 100.0, 'recall': 100.0, 'f1': 100.0}\n",
      "validation acc {'accuracy': 89.48545861297539, 'precision': 95.83409645612231, 'recall': 95.25559166297796, 'f1': 95.54001149877365}\n",
      "====================================================================================================\n",
      "Epoch 22 / 50\n",
      "----------------------------------------------------------------------------------------------------\n",
      "training loss 0.0030226302333176136; training time 0.3749784747759501\n",
      "validation loss 0.4188058376312256; validation time 0.03125534454981486\n",
      "training acc {'accuracy': 100.0, 'precision': 100.0, 'recall': 100.0, 'f1': 100.0}\n",
      "validation acc {'accuracy': 89.26174496644296, 'precision': 95.82960996686424, 'recall': 95.13182928674034, 'f1': 95.47453530829746}\n",
      "====================================================================================================\n",
      "Epoch 23 / 50\n",
      "----------------------------------------------------------------------------------------------------\n",
      "training loss 0.0029704603366553783; training time 0.3762686252593994\n",
      "validation loss 0.19146379828453064; validation time 0.031212449073791504\n",
      "training acc {'accuracy': 99.77616116396194, 'precision': 99.8815194380925, 'recall': 99.88137603795967, 'f1': 99.8813775404417}\n",
      "validation acc {'accuracy': 87.69574944071589, 'precision': 95.34308752018713, 'recall': 94.47581782876111, 'f1': 94.85959991821579}\n",
      "====================================================================================================\n",
      "Epoch 24 / 50\n",
      "----------------------------------------------------------------------------------------------------\n",
      "training loss 0.0036208995152264833; training time 0.3763758937517802\n",
      "validation loss 0.15697816014289856; validation time 0.03139137427012126\n",
      "training acc {'accuracy': 99.49636261891438, 'precision': 99.7336050205798, 'recall': 99.76275207591934, 'f1': 99.74796082045835}\n",
      "validation acc {'accuracy': 89.03803131991052, 'precision': 95.95877378435517, 'recall': 95.02359597983481, 'f1': 95.46411055588169}\n",
      "====================================================================================================\n",
      "Epoch 25 / 50\n",
      "----------------------------------------------------------------------------------------------------\n",
      "training loss 0.004021810833364725; training time 0.37611284653345745\n",
      "validation loss 0.2252579927444458; validation time 0.03127219279607137\n",
      "training acc {'accuracy': 99.66424174594292, 'precision': 99.85182698010766, 'recall': 99.88137603795967, 'f1': 99.86659262477093}\n",
      "validation acc {'accuracy': 87.69574944071589, 'precision': 95.21350415904068, 'recall': 94.36147956779607, 'f1': 94.74559433898075}\n",
      "====================================================================================================\n",
      "Epoch 26 / 50\n",
      "----------------------------------------------------------------------------------------------------\n",
      "training loss 0.0033467304892838; training time 0.37728684743245444\n",
      "validation loss 0.1818665862083435; validation time 0.03140564362208049\n",
      "training acc {'accuracy': 99.77616116396194, 'precision': 99.91103202846975, 'recall': 99.91103202846975, 'f1': 99.91103202846975}\n",
      "validation acc {'accuracy': 88.81431767337807, 'precision': 95.59073694077114, 'recall': 95.15612103412333, 'f1': 95.3615677918698}\n",
      "====================================================================================================\n",
      "Epoch 27 / 50\n",
      "----------------------------------------------------------------------------------------------------\n",
      "training loss 0.0024975771084427834; training time 0.37738790512084963\n",
      "validation loss 0.20464983582496643; validation time 0.0313335657119751\n",
      "training acc {'accuracy': 99.88808058198097, 'precision': 99.94075830804793, 'recall': 100.0, 'f1': 99.97036159217744}\n",
      "validation acc {'accuracy': 88.59060402684564, 'precision': 95.84836484774486, 'recall': 94.87554185621421, 'f1': 95.34294077176763}\n",
      "====================================================================================================\n",
      "Epoch 28 / 50\n",
      "----------------------------------------------------------------------------------------------------\n",
      "training loss 0.0016708605689927936; training time 0.3768648266792297\n",
      "validation loss 0.18538552522659302; validation time 0.0313637097676595\n",
      "training acc {'accuracy': 99.94404029099049, 'precision': 100.0, 'recall': 99.97034400948992, 'f1': 99.9851630775955}\n",
      "validation acc {'accuracy': 88.14317673378076, 'precision': 95.60967324047576, 'recall': 94.8820369091489, 'f1': 95.23141808084503}\n",
      "====================================================================================================\n",
      "Epoch 29 / 50\n",
      "----------------------------------------------------------------------------------------------------\n",
      "training loss 0.005410388577729464; training time 0.3883376200993856\n",
      "validation loss 0.08321919292211533; validation time 0.03134613434473674\n",
      "training acc {'accuracy': 100.0, 'precision': 100.0, 'recall': 100.0, 'f1': 100.0}\n",
      "validation acc {'accuracy': 87.91946308724832, 'precision': 95.8192530832018, 'recall': 94.52968028744242, 'f1': 95.15420382927654}\n",
      "====================================================================================================\n",
      "Epoch 30 / 50\n",
      "----------------------------------------------------------------------------------------------------\n",
      "training loss 0.0029748708475381136; training time 0.37716137965520224\n",
      "validation loss 0.22298939526081085; validation time 0.03139649232228597\n",
      "training acc {'accuracy': 100.0, 'precision': 100.0, 'recall': 100.0, 'f1': 100.0}\n",
      "validation acc {'accuracy': 88.36689038031321, 'precision': 95.52314716607258, 'recall': 94.86603546448039, 'f1': 95.17570561663906}\n",
      "====================================================================================================\n",
      "Epoch 31 / 50\n",
      "----------------------------------------------------------------------------------------------------\n",
      "training loss 0.0037678489461541176; training time 0.3782662590344747\n",
      "validation loss 0.3324894905090332; validation time 0.03137155771255493\n",
      "training acc {'accuracy': 100.0, 'precision': 100.0, 'recall': 100.0, 'f1': 100.0}\n",
      "validation acc {'accuracy': 88.59060402684564, 'precision': 95.61980342926944, 'recall': 95.10941506559838, 'f1': 95.3525858113408}\n",
      "====================================================================================================\n",
      "Epoch 32 / 50\n",
      "----------------------------------------------------------------------------------------------------\n",
      "training loss 0.0013878097524866462; training time 0.3781361222267151\n",
      "validation loss 0.18624883890151978; validation time 0.03134802977244059\n",
      "training acc {'accuracy': 100.0, 'precision': 100.0, 'recall': 100.0, 'f1': 100.0}\n",
      "validation acc {'accuracy': 88.36689038031321, 'precision': 95.62797233887981, 'recall': 94.87018061583763, 'f1': 95.23213239870645}\n",
      "====================================================================================================\n",
      "Epoch 33 / 50\n",
      "----------------------------------------------------------------------------------------------------\n",
      "training loss 0.0021373804192990065; training time 0.3783639669418335\n",
      "validation loss 0.001326999394223094; validation time 0.03130125204722087\n",
      "training acc {'accuracy': 100.0, 'precision': 100.0, 'recall': 100.0, 'f1': 100.0}\n",
      "validation acc {'accuracy': 88.36689038031321, 'precision': 95.61028505881447, 'recall': 94.87018061583763, 'f1': 95.22597768391586}\n",
      "====================================================================================================\n",
      "Epoch 34 / 50\n",
      "----------------------------------------------------------------------------------------------------\n",
      "training loss 0.001887664431706071; training time 0.37849195798238117\n",
      "validation loss 0.32477304339408875; validation time 0.03141661882400513\n",
      "training acc {'accuracy': 100.0, 'precision': 100.0, 'recall': 100.0, 'f1': 100.0}\n",
      "validation acc {'accuracy': 88.36689038031321, 'precision': 95.61506745957965, 'recall': 94.98979784071801, 'f1': 95.28943465599478}\n",
      "====================================================================================================\n",
      "Epoch 35 / 50\n",
      "----------------------------------------------------------------------------------------------------\n",
      "training loss 0.0023946145083755255; training time 0.3784846266110738\n",
      "validation loss 0.1465551257133484; validation time 0.031379834810892744\n",
      "training acc {'accuracy': 99.94404029099049, 'precision': 100.0, 'recall': 99.97034400948992, 'f1': 99.98516332832878}\n",
      "validation acc {'accuracy': 88.81431767337807, 'precision': 95.87398806824214, 'recall': 95.1177876447741, 'f1': 95.47323223726329}\n",
      "====================================================================================================\n",
      "Epoch 36 / 50\n",
      "----------------------------------------------------------------------------------------------------\n",
      "training loss 0.0023136839736253023; training time 0.38797870874404905\n",
      "validation loss 0.35729825496673584; validation time 0.031355754534403486\n",
      "training acc {'accuracy': 99.94404029099049, 'precision': 99.97037865433866, 'recall': 100.0, 'f1': 99.98518067101922}\n",
      "validation acc {'accuracy': 88.36689038031321, 'precision': 95.61892710263479, 'recall': 94.88618206050613, 'f1': 95.23559549399567}\n",
      "====================================================================================================\n",
      "Epoch 37 / 50\n",
      "----------------------------------------------------------------------------------------------------\n",
      "training loss 0.001475276192650199; training time 0.3789054830869039\n",
      "validation loss 0.23055392503738403; validation time 0.03139011859893799\n",
      "training acc {'accuracy': 100.0, 'precision': 100.0, 'recall': 100.0, 'f1': 100.0}\n",
      "validation acc {'accuracy': 88.14317673378076, 'precision': 95.8358873479029, 'recall': 94.8820369091489, 'f1': 95.34288135935222}\n",
      "====================================================================================================\n",
      "Epoch 38 / 50\n",
      "----------------------------------------------------------------------------------------------------\n",
      "training loss 0.0019733880180865526; training time 0.3787619749704997\n",
      "validation loss 0.15846289694309235; validation time 0.031391358375549315\n",
      "training acc {'accuracy': 100.0, 'precision': 100.0, 'recall': 100.0, 'f1': 100.0}\n",
      "validation acc {'accuracy': 88.14317673378076, 'precision': 95.83166151964055, 'recall': 94.76241968426851, 'f1': 95.2794101917178}\n",
      "====================================================================================================\n",
      "Epoch 39 / 50\n",
      "----------------------------------------------------------------------------------------------------\n",
      "training loss 0.0016890807310119271; training time 0.3792282025019328\n",
      "validation loss 0.22872662544250488; validation time 0.031404419740041094\n",
      "training acc {'accuracy': 99.94404029099049, 'precision': 99.97037873547411, 'recall': 99.97034400948992, 'f1': 99.97034379036893}\n",
      "validation acc {'accuracy': 88.36689038031321, 'precision': 95.70735613097565, 'recall': 95.01643948967843, 'f1': 95.35036480014696}\n",
      "====================================================================================================\n",
      "Epoch 40 / 50\n",
      "----------------------------------------------------------------------------------------------------\n",
      "training loss 0.0011130444472655654; training time 0.37967935800552366\n",
      "validation loss 0.11358339339494705; validation time 0.0313878337542216\n",
      "training acc {'accuracy': 100.0, 'precision': 100.0, 'recall': 100.0, 'f1': 100.0}\n",
      "validation acc {'accuracy': 88.81431767337807, 'precision': 95.60135258156429, 'recall': 95.39007651996873, 'f1': 95.48620389219482}\n",
      "====================================================================================================\n",
      "Epoch 41 / 50\n",
      "----------------------------------------------------------------------------------------------------\n",
      "training loss 0.0018844588194042444; training time 0.3794577121734619\n",
      "validation loss 0.17322979867458344; validation time 0.03140737613042196\n",
      "training acc {'accuracy': 100.0, 'precision': 100.0, 'recall': 100.0, 'f1': 100.0}\n",
      "validation acc {'accuracy': 88.59060402684564, 'precision': 95.58925281739589, 'recall': 95.15084207020797, 'f1': 95.35859943986414}\n",
      "====================================================================================================\n",
      "Epoch 42 / 50\n",
      "----------------------------------------------------------------------------------------------------\n",
      "training loss 0.0017762223724275827; training time 0.37944982449213666\n",
      "validation loss 0.0873481035232544; validation time 0.03139311075210571\n",
      "training acc {'accuracy': 100.0, 'precision': 100.0, 'recall': 100.0, 'f1': 100.0}\n",
      "validation acc {'accuracy': 88.59060402684564, 'precision': 95.47781870886875, 'recall': 95.15084207020797, 'f1': 95.30427785608818}\n",
      "====================================================================================================\n",
      "Epoch 43 / 50\n",
      "----------------------------------------------------------------------------------------------------\n",
      "training loss 0.0016362033784389496; training time 0.3796956539154053\n",
      "validation loss 0.16394010186195374; validation time 0.04175864855448405\n",
      "training acc {'accuracy': 100.0, 'precision': 100.0, 'recall': 100.0, 'f1': 100.0}\n",
      "validation acc {'accuracy': 88.81431767337807, 'precision': 95.47639734640742, 'recall': 95.14669691885072, 'f1': 95.30232324527447}\n",
      "====================================================================================================\n",
      "Epoch 44 / 50\n",
      "----------------------------------------------------------------------------------------------------\n",
      "training loss 0.001142315100878477; training time 0.3793384075164795\n",
      "validation loss 0.30859047174453735; validation time 0.0313929279645284\n",
      "training acc {'accuracy': 100.0, 'precision': 100.0, 'recall': 100.0, 'f1': 100.0}\n",
      "validation acc {'accuracy': 88.81431767337807, 'precision': 95.47639734640742, 'recall': 95.14669691885072, 'f1': 95.30232324527447}\n",
      "====================================================================================================\n",
      "Epoch 45 / 50\n",
      "----------------------------------------------------------------------------------------------------\n",
      "training loss 0.0017160784918814898; training time 0.37951770226160686\n",
      "validation loss 0.1340547502040863; validation time 0.03139137824376424\n",
      "training acc {'accuracy': 100.0, 'precision': 100.0, 'recall': 100.0, 'f1': 100.0}\n",
      "validation acc {'accuracy': 88.81431767337807, 'precision': 95.47639734640742, 'recall': 95.14669691885072, 'f1': 95.30232324527447}\n",
      "====================================================================================================\n",
      "Epoch 46 / 50\n",
      "----------------------------------------------------------------------------------------------------\n",
      "training loss 0.0019973611924797297; training time 0.3793672800064087\n",
      "validation loss 0.2184157520532608; validation time 0.0314144770304362\n",
      "training acc {'accuracy': 100.0, 'precision': 100.0, 'recall': 100.0, 'f1': 100.0}\n",
      "validation acc {'accuracy': 88.36689038031321, 'precision': 95.3612543106654, 'recall': 95.02707969397035, 'f1': 95.18509854991402}\n",
      "====================================================================================================\n",
      "Epoch 47 / 50\n",
      "----------------------------------------------------------------------------------------------------\n",
      "training loss 0.0018692233134061098; training time 0.37945048411687216\n",
      "validation loss 0.3838082253932953; validation time 0.03138148784637451\n",
      "training acc {'accuracy': 100.0, 'precision': 100.0, 'recall': 100.0, 'f1': 100.0}\n",
      "validation acc {'accuracy': 88.36689038031321, 'precision': 95.25659612316582, 'recall': 95.14669691885072, 'f1': 95.19442251394729}\n",
      "====================================================================================================\n",
      "Epoch 48 / 50\n",
      "----------------------------------------------------------------------------------------------------\n",
      "training loss 0.001693320693448186; training time 0.3794488668441772\n",
      "validation loss 0.26417627930641174; validation time 0.031526601314544676\n",
      "training acc {'accuracy': 100.0, 'precision': 100.0, 'recall': 100.0, 'f1': 100.0}\n",
      "validation acc {'accuracy': 88.36689038031321, 'precision': 95.25659612316582, 'recall': 95.14669691885072, 'f1': 95.19442251394729}\n",
      "====================================================================================================\n",
      "Epoch 49 / 50\n",
      "----------------------------------------------------------------------------------------------------\n",
      "training loss 0.0017425925470888615; training time 0.37932571172714236\n",
      "validation loss 0.28243011236190796; validation time 0.03137995799382528\n",
      "training acc {'accuracy': 100.0, 'precision': 100.0, 'recall': 100.0, 'f1': 100.0}\n",
      "validation acc {'accuracy': 88.36689038031321, 'precision': 95.25659612316582, 'recall': 95.14669691885072, 'f1': 95.19442251394729}\n",
      "====================================================================================================\n",
      "Epoch 50 / 50\n",
      "----------------------------------------------------------------------------------------------------\n",
      "training loss 0.0017234415281563997; training time 0.3793973922729492\n",
      "validation loss 0.3250804841518402; validation time 0.03138587872187296\n",
      "training acc {'accuracy': 100.0, 'precision': 100.0, 'recall': 100.0, 'f1': 100.0}\n",
      "validation acc {'accuracy': 88.36689038031321, 'precision': 95.25659612316582, 'recall': 95.14669691885072, 'f1': 95.19442251394729}\n",
      " *** training is done !! *** \n",
      "Best epoch: 12\n",
      "Best f1_score: 95.77394235388847\n",
      "          label  precision  recall  f1-score  support\n",
      "0            男性      0.965   0.950     0.958  202.000\n",
      "1            女性      0.959   0.950     0.955  221.000\n",
      "2            已婚      0.950   0.981     0.965  211.000\n",
      "3            未婚      0.970   0.938     0.954  209.000\n",
      "4     micro avg      0.961   0.955     0.958  843.000\n",
      "5     macro avg      0.961   0.955     0.958  843.000\n",
      "6  weighted avg      0.961   0.955     0.958  843.000\n",
      "7   samples avg      0.959   0.951     0.949  843.000\n",
      "             name         value\n",
      "0      param_size 409082896.000\n",
      "1       param_sum 102270724.000\n",
      "2     buffer_size      8192.000\n",
      "3      buffer_sum      1024.000\n",
      "4  total_size(MB)       390.140\n"
     ]
    },
    {
     "data": {
      "text/html": [
       "Waiting for W&B process to finish... <strong style=\"color:green\">(success).</strong>"
      ],
      "text/plain": [
       "<IPython.core.display.HTML object>"
      ]
     },
     "metadata": {},
     "output_type": "display_data"
    },
    {
     "data": {
      "application/vnd.jupyter.widget-view+json": {
       "model_id": "",
       "version_major": 2,
       "version_minor": 0
      },
      "text/plain": [
       "VBox(children=(Label(value='0.097 MB of 0.097 MB uploaded (0.000 MB deduped)\\r'), FloatProgress(value=0.998293…"
      ]
     },
     "metadata": {},
     "output_type": "display_data"
    },
    {
     "data": {
      "text/html": [
       "<style>\n",
       "    table.wandb td:nth-child(1) { padding: 0 10px; text-align: left ; width: auto;} td:nth-child(2) {text-align: left ; width: 100%}\n",
       "    .wandb-row { display: flex; flex-direction: row; flex-wrap: wrap; justify-content: flex-start; width: 100% }\n",
       "    .wandb-col { display: flex; flex-direction: column; flex-basis: 100%; flex: 1; padding: 10px; }\n",
       "    </style>\n",
       "<div class=\"wandb-row\"><div class=\"wandb-col\"><h3>Run history:</h3><br/><table class=\"wandb\"><tr><td>epoch</td><td>▁▁▁▁▂▂▂▂▂▃▃▃▃▃▃▄▄▄▄▄▅▅▅▅▅▅▆▆▆▆▆▆▇▇▇▇▇███</td></tr><tr><td>train/accuracy</td><td>▁▅▆▇▇███████████████████████████████████</td></tr><tr><td>train/loss</td><td>▆▃▅█▁▁▂▁▁▁▁▁▁▁▁▁▁▁▁▁▁▁▁▁▁▁▁▁▁▁▁▁▁▁▁▁▁▁▁▁</td></tr><tr><td>val/accuracy</td><td>▁▄▆▆▇███▇████▇▇███▆▇▇▇▇▇▇▇▇▇▇▇▇▇▇▇▇▇▇▇▇▇</td></tr><tr><td>val/loss</td><td>▆▂▄▄▂▅▇▆▃▅▂▃▄▃▂▂▅█▄▄▄▄▄▂▇▄▁▆▇▅▄▅▄▂▄▆▅▇▅▆</td></tr></table><br/></div><div class=\"wandb-col\"><h3>Run summary:</h3><br/><table class=\"wandb\"><tr><td>epoch</td><td>50</td></tr><tr><td>train/accuracy</td><td>100.0</td></tr><tr><td>train/loss</td><td>0.00172</td></tr><tr><td>val/accuracy</td><td>95.19442</td></tr><tr><td>val/loss</td><td>0.32508</td></tr></table><br/></div></div>"
      ],
      "text/plain": [
       "<IPython.core.display.HTML object>"
      ]
     },
     "metadata": {},
     "output_type": "display_data"
    },
    {
     "data": {
      "text/html": [
       "Synced <strong style=\"color:#cdcd00\">bert-base-chinese_2022-07-01 09:57:54.654996</strong>: <a href=\"https://wandb.ai/weber12321/audience_bert_4_class/runs/2uv7pwrq\" target=\"_blank\">https://wandb.ai/weber12321/audience_bert_4_class/runs/2uv7pwrq</a><br/>Synced 5 W&B file(s), 3 media file(s), 3 artifact file(s) and 0 other file(s)"
      ],
      "text/plain": [
       "<IPython.core.display.HTML object>"
      ]
     },
     "metadata": {},
     "output_type": "display_data"
    },
    {
     "data": {
      "text/html": [
       "Find logs at: <code>./wandb/run-20220701_095754-2uv7pwrq/logs</code>"
      ],
      "text/plain": [
       "<IPython.core.display.HTML object>"
      ]
     },
     "metadata": {},
     "output_type": "display_data"
    }
   ],
   "source": [
    "torch.cuda.empty_cache()\n",
    "\n",
    "run(\n",
    "    df_train=df_train, \n",
    "    df_test=df_test, \n",
    "    batch_size=32, \n",
    "    max_len=100, \n",
    "    ckpt=\"bert-base-chinese\"\n",
    ")"
   ]
  },
  {
   "cell_type": "markdown",
   "id": "9b5bf83b",
   "metadata": {},
   "source": [
    "### K-fold cross validation"
   ]
  },
  {
   "cell_type": "code",
   "execution_count": null,
   "id": "d775b4fc",
   "metadata": {},
   "outputs": [],
   "source": [
    "kf = KFold(n_splits=5)\n",
    "kf.get_n_splits(df.text.values)"
   ]
  },
  {
   "cell_type": "code",
   "execution_count": null,
   "id": "157f35b4",
   "metadata": {},
   "outputs": [],
   "source": [
    "kf"
   ]
  },
  {
   "cell_type": "code",
   "execution_count": null,
   "id": "32aac146",
   "metadata": {},
   "outputs": [],
   "source": [
    "fold = 1\n",
    "for train_idx, test_idx in tqdm(kf.split(df.text.values)):\n",
    "    print(\"Fold number: \", fold)\n",
    "    df_train = df.iloc[train_idx]\n",
    "    df_test = df.iloc[test_idx]\n",
    "    print(\"Size of datasets: \")\n",
    "    print(df_train.shape, df_test.shape)\n",
    "    \n",
    "    run(\n",
    "        df_train=df_train, \n",
    "        df_test=df_test, \n",
    "        batch_size=32, \n",
    "        max_len=64, \n",
    "        ckpt=\"bert-base-chinese\",\n",
    "        prefix=fold\n",
    "    )\n",
    "    # start training and validating\n",
    "    fold += 1"
   ]
  },
  {
   "cell_type": "code",
   "execution_count": null,
   "id": "956f76c5",
   "metadata": {},
   "outputs": [],
   "source": [
    "len(df)"
   ]
  },
  {
   "cell_type": "markdown",
   "id": "71c8336a",
   "metadata": {},
   "source": [
    "### baseline"
   ]
  },
  {
   "cell_type": "code",
   "execution_count": null,
   "id": "25bc638e",
   "metadata": {},
   "outputs": [],
   "source": [
    "# from sklearn.ensemble import RandomForestClassifier\n",
    "# from sklearn.multioutput import ClassifierChain\n",
    "# from sklearn.feature_extraction.text import TfidfVectorizer"
   ]
  },
  {
   "cell_type": "code",
   "execution_count": null,
   "id": "3284d9d7",
   "metadata": {},
   "outputs": [],
   "source": [
    "# def convert_feature(examples,\n",
    "#                     max_features=50, \n",
    "#                     min_df=2, \n",
    "#                     vec=None\n",
    "#                    ):\n",
    "#     seg_contents = examples\n",
    "#     if vec:\n",
    "#         x_features = vec.transform(seg_contents)\n",
    "#         return x_features\n",
    "#     else:\n",
    "#         vectorizer = TfidfVectorizer(max_features=max_features, min_df=min_df)\n",
    "#         x_features = vectorizer.fit_transform(seg_contents)\n",
    "#         return x_features, vectorizer\n",
    "\n",
    "# def get_multi_accuracy(y_true, y_pre):\n",
    "#     right = 0\n",
    "#     wrong = 0\n",
    "#     for i in range(len(y_true)):\n",
    "#         for j in range(len(y_true[i])):\n",
    "#             if y_true[i][j] == y_pre[i][j]:\n",
    "#                 right += 1\n",
    "#             else:\n",
    "#                 wrong += 1\n",
    "#     return right / (right + wrong)"
   ]
  },
  {
   "cell_type": "code",
   "execution_count": null,
   "id": "6142263e",
   "metadata": {},
   "outputs": [],
   "source": [
    "# X_train = df_train.text\n",
    "# X_test = df_test.text"
   ]
  },
  {
   "cell_type": "code",
   "execution_count": null,
   "id": "b3d86e8b",
   "metadata": {},
   "outputs": [],
   "source": [
    "# x_train_features, x_vec = convert_feature(X_train)\n",
    "# x_test_features = convert_feature(X_test, vec=x_vec)"
   ]
  },
  {
   "cell_type": "code",
   "execution_count": null,
   "id": "9bca5722",
   "metadata": {},
   "outputs": [],
   "source": [
    "# print(f\"shape of training feature {x_train_features.shape}\")\n",
    "# print(f\"shape of testing feature {x_test_features.shape}\")"
   ]
  },
  {
   "cell_type": "code",
   "execution_count": null,
   "id": "6e47b88b",
   "metadata": {},
   "outputs": [],
   "source": [
    "# y_train = df_train[label_col].values\n",
    "# y_test = df_test[label_col].values"
   ]
  },
  {
   "cell_type": "code",
   "execution_count": null,
   "id": "14ee947d",
   "metadata": {},
   "outputs": [],
   "source": [
    "# %%time\n",
    "# project_name = \"audience_bert\"\n",
    "# display_name = f\"baseline_RF_1\"\n",
    "\n",
    "# wandb.init(project=project_name, name=display_name)\n",
    "\n",
    "# clf = ClassifierChain(RandomForestClassifier()).fit(x_train_features, y_train)\n",
    "# pred = clf.predict(x_test_features)\n",
    "# # acc = get_multi_accuracy(y_test, pred)\n",
    "# # print(f\"acc: {acc*100}\")\n",
    "# output = pd.DataFrame(\n",
    "#     classification_report(y_test, pred, output_dict=True, target_names=label_col)\n",
    "# ).transpose()\n",
    "# output = output.reset_index().rename(columns={'index':'label'})\n",
    "# print(output)\n",
    "\n",
    "# wandb.log({\n",
    "#     \"classification_report\": wandb.Table(dataframe=output),\n",
    "# })\n",
    "\n",
    "# wandb.finish()"
   ]
  },
  {
   "cell_type": "code",
   "execution_count": null,
   "id": "4d37470f",
   "metadata": {},
   "outputs": [],
   "source": []
  }
 ],
 "metadata": {
  "kernelspec": {
   "display_name": "Python 3 (ipykernel)",
   "language": "python",
   "name": "python3"
  },
  "language_info": {
   "codemirror_mode": {
    "name": "ipython",
    "version": 3
   },
   "file_extension": ".py",
   "mimetype": "text/x-python",
   "name": "python",
   "nbconvert_exporter": "python",
   "pygments_lexer": "ipython3",
   "version": "3.10.4"
  }
 },
 "nbformat": 4,
 "nbformat_minor": 5
}
